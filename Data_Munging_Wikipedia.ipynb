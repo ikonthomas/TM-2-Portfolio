{
  "nbformat": 4,
  "nbformat_minor": 0,
  "metadata": {
    "colab": {
      "name": "Data_Munging Wikipedia.ipynb",
      "version": "0.3.2",
      "provenance": [],
      "collapsed_sections": [
        "eXA_J7uMFa9V"
      ],
      "include_colab_link": true
    },
    "kernelspec": {
      "display_name": "Python 2",
      "language": "python",
      "name": "python2"
    }
  },
  "cells": [
    {
      "cell_type": "markdown",
      "metadata": {
        "id": "view-in-github",
        "colab_type": "text"
      },
      "source": [
        "<a href=\"https://colab.research.google.com/github/ikonthomas/TM-2-Portfolio/blob/master/Data_Munging_Wikipedia.ipynb\" target=\"_parent\"><img src=\"https://colab.research.google.com/assets/colab-badge.svg\" alt=\"Open In Colab\"/></a>"
      ]
    },
    {
      "metadata": {
        "id": "E7oYO8zNFa6g",
        "colab_type": "code",
        "colab": {}
      },
      "cell_type": "code",
      "source": [
        "%matplotlib inline\n",
        "import matplotlib\n",
        "import seaborn as sns\n",
        "matplotlib.rcParams['savefig.dpi'] = 144"
      ],
      "execution_count": 0,
      "outputs": []
    },
    {
      "metadata": {
        "id": "re-hhLyGFa6p",
        "colab_type": "text"
      },
      "cell_type": "markdown",
      "source": [
        "# Data Munging"
      ]
    },
    {
      "metadata": {
        "id": "-wNFgcBCFa6q",
        "colab_type": "text"
      },
      "cell_type": "markdown",
      "source": [
        "## Relational Data\n",
        "\n",
        "\n",
        "Here I will explore a bit of data and see how combining different sets of data can help  generate useful features.\n",
        "\n",
        "First we need some data.  We will make use of some data from Wikipedia and we will use the pandas `read_html` function to scrape the data from a particular webpage.  We will study the top 10 companies in the Fortune Global 500 which conveniently have their own Wikipedia page.\n",
        "\n",
        "We will download the data in tabular form, but work with it as a list of dictionaries, as most data in the real world is  a bit messy and unstructured."
      ]
    },
    {
      "metadata": {
        "id": "R_VapjUsFa6s",
        "colab_type": "code",
        "outputId": "f9ebb9d9-f9f3-4263-b037-72564bae736a",
        "colab": {
          "base_uri": "https://localhost:8080/",
          "height": 347
        }
      },
      "cell_type": "code",
      "source": [
        "import pandas as pd\n",
        "import json\n",
        "df = pd.read_html('https://en.wikipedia.org/wiki/Fortune_Global_500', header=0)[0]\n",
        "fortune_500 = json.loads(df.to_json(orient='records'))\n",
        "df"
      ],
      "execution_count": 0,
      "outputs": [
        {
          "output_type": "execute_result",
          "data": {
            "text/html": [
              "<div>\n",
              "<style scoped>\n",
              "    .dataframe tbody tr th:only-of-type {\n",
              "        vertical-align: middle;\n",
              "    }\n",
              "\n",
              "    .dataframe tbody tr th {\n",
              "        vertical-align: top;\n",
              "    }\n",
              "\n",
              "    .dataframe thead th {\n",
              "        text-align: right;\n",
              "    }\n",
              "</style>\n",
              "<table border=\"1\" class=\"dataframe\">\n",
              "  <thead>\n",
              "    <tr style=\"text-align: right;\">\n",
              "      <th></th>\n",
              "      <th>Rank</th>\n",
              "      <th>Company</th>\n",
              "      <th>Country</th>\n",
              "      <th>Industry</th>\n",
              "      <th>Revenue in USD</th>\n",
              "    </tr>\n",
              "  </thead>\n",
              "  <tbody>\n",
              "    <tr>\n",
              "      <th>0</th>\n",
              "      <td>1</td>\n",
              "      <td>Walmart</td>\n",
              "      <td>United States</td>\n",
              "      <td>Retail</td>\n",
              "      <td>$500 billion</td>\n",
              "    </tr>\n",
              "    <tr>\n",
              "      <th>1</th>\n",
              "      <td>2</td>\n",
              "      <td>State Grid</td>\n",
              "      <td>China</td>\n",
              "      <td>Power</td>\n",
              "      <td>$349 billion</td>\n",
              "    </tr>\n",
              "    <tr>\n",
              "      <th>2</th>\n",
              "      <td>3</td>\n",
              "      <td>Sinopec Group</td>\n",
              "      <td>China</td>\n",
              "      <td>Petroleum</td>\n",
              "      <td>$327 billion</td>\n",
              "    </tr>\n",
              "    <tr>\n",
              "      <th>3</th>\n",
              "      <td>4</td>\n",
              "      <td>China National Petroleum</td>\n",
              "      <td>China</td>\n",
              "      <td>Petroleum</td>\n",
              "      <td>$326 billion</td>\n",
              "    </tr>\n",
              "    <tr>\n",
              "      <th>4</th>\n",
              "      <td>5</td>\n",
              "      <td>Royal Dutch Shell</td>\n",
              "      <td>Netherlands  United Kingdom</td>\n",
              "      <td>Petroleum</td>\n",
              "      <td>$312 billion</td>\n",
              "    </tr>\n",
              "    <tr>\n",
              "      <th>5</th>\n",
              "      <td>6</td>\n",
              "      <td>Toyota Motor</td>\n",
              "      <td>Japan</td>\n",
              "      <td>Automobiles</td>\n",
              "      <td>$265 billion</td>\n",
              "    </tr>\n",
              "    <tr>\n",
              "      <th>6</th>\n",
              "      <td>7</td>\n",
              "      <td>Volkswagen</td>\n",
              "      <td>Germany</td>\n",
              "      <td>Automobiles</td>\n",
              "      <td>$260 billion</td>\n",
              "    </tr>\n",
              "    <tr>\n",
              "      <th>7</th>\n",
              "      <td>8</td>\n",
              "      <td>BP</td>\n",
              "      <td>United Kingdom</td>\n",
              "      <td>Petroleum</td>\n",
              "      <td>$245 billion</td>\n",
              "    </tr>\n",
              "    <tr>\n",
              "      <th>8</th>\n",
              "      <td>9</td>\n",
              "      <td>Exxon Mobil</td>\n",
              "      <td>United States</td>\n",
              "      <td>Petroleum</td>\n",
              "      <td>$244 billion</td>\n",
              "    </tr>\n",
              "    <tr>\n",
              "      <th>9</th>\n",
              "      <td>10</td>\n",
              "      <td>Berkshire Hathaway</td>\n",
              "      <td>United States</td>\n",
              "      <td>Holding</td>\n",
              "      <td>$242 billion</td>\n",
              "    </tr>\n",
              "  </tbody>\n",
              "</table>\n",
              "</div>"
            ],
            "text/plain": [
              "   Rank                   Company                      Country     Industry  \\\n",
              "0     1                   Walmart                United States       Retail   \n",
              "1     2                State Grid                        China        Power   \n",
              "2     3             Sinopec Group                        China    Petroleum   \n",
              "3     4  China National Petroleum                        China    Petroleum   \n",
              "4     5         Royal Dutch Shell  Netherlands  United Kingdom    Petroleum   \n",
              "5     6              Toyota Motor                        Japan  Automobiles   \n",
              "6     7                Volkswagen                      Germany  Automobiles   \n",
              "7     8                        BP               United Kingdom    Petroleum   \n",
              "8     9               Exxon Mobil                United States    Petroleum   \n",
              "9    10        Berkshire Hathaway                United States      Holding   \n",
              "\n",
              "  Revenue in USD  \n",
              "0   $500 billion  \n",
              "1   $349 billion  \n",
              "2   $327 billion  \n",
              "3   $326 billion  \n",
              "4   $312 billion  \n",
              "5   $265 billion  \n",
              "6   $260 billion  \n",
              "7   $245 billion  \n",
              "8   $244 billion  \n",
              "9   $242 billion  "
            ]
          },
          "metadata": {
            "tags": []
          },
          "execution_count": 23
        }
      ]
    },
    {
      "metadata": {
        "id": "-1hrmRM3Fa6z",
        "colab_type": "text"
      },
      "cell_type": "markdown",
      "source": [
        "Lets look at the data."
      ]
    },
    {
      "metadata": {
        "id": "X8ELXNLQFa60",
        "colab_type": "code",
        "outputId": "a7507043-9c82-43f7-e0a2-62b72f8c6c2b",
        "colab": {
          "base_uri": "https://localhost:8080/",
          "height": 905
        }
      },
      "cell_type": "code",
      "source": [
        "fortune_500"
      ],
      "execution_count": 0,
      "outputs": [
        {
          "output_type": "execute_result",
          "data": {
            "text/plain": [
              "[{u'Company': u'Walmart',\n",
              "  u'Country': u'United States',\n",
              "  u'Industry': u'Retail',\n",
              "  u'Rank': 1,\n",
              "  u'Revenue in USD': u'$500 billion'},\n",
              " {u'Company': u'State Grid',\n",
              "  u'Country': u'China',\n",
              "  u'Industry': u'Power',\n",
              "  u'Rank': 2,\n",
              "  u'Revenue in USD': u'$349 billion'},\n",
              " {u'Company': u'Sinopec Group',\n",
              "  u'Country': u'China',\n",
              "  u'Industry': u'Petroleum',\n",
              "  u'Rank': 3,\n",
              "  u'Revenue in USD': u'$327 billion'},\n",
              " {u'Company': u'China National Petroleum',\n",
              "  u'Country': u'China',\n",
              "  u'Industry': u'Petroleum',\n",
              "  u'Rank': 4,\n",
              "  u'Revenue in USD': u'$326 billion'},\n",
              " {u'Company': u'Royal Dutch Shell',\n",
              "  u'Country': u'Netherlands \\xa0United Kingdom',\n",
              "  u'Industry': u'Petroleum',\n",
              "  u'Rank': 5,\n",
              "  u'Revenue in USD': u'$312 billion'},\n",
              " {u'Company': u'Toyota Motor',\n",
              "  u'Country': u'Japan',\n",
              "  u'Industry': u'Automobiles',\n",
              "  u'Rank': 6,\n",
              "  u'Revenue in USD': u'$265 billion'},\n",
              " {u'Company': u'Volkswagen',\n",
              "  u'Country': u'Germany',\n",
              "  u'Industry': u'Automobiles',\n",
              "  u'Rank': 7,\n",
              "  u'Revenue in USD': u'$260 billion'},\n",
              " {u'Company': u'BP',\n",
              "  u'Country': u'United Kingdom',\n",
              "  u'Industry': u'Petroleum',\n",
              "  u'Rank': 8,\n",
              "  u'Revenue in USD': u'$245 billion'},\n",
              " {u'Company': u'Exxon Mobil',\n",
              "  u'Country': u'United States',\n",
              "  u'Industry': u'Petroleum',\n",
              "  u'Rank': 9,\n",
              "  u'Revenue in USD': u'$244 billion'},\n",
              " {u'Company': u'Berkshire Hathaway',\n",
              "  u'Country': u'United States',\n",
              "  u'Industry': u'Holding',\n",
              "  u'Rank': 10,\n",
              "  u'Revenue in USD': u'$242 billion'}]"
            ]
          },
          "metadata": {
            "tags": []
          },
          "execution_count": 24
        }
      ]
    },
    {
      "metadata": {
        "id": "n8r9QqnOFa65",
        "colab_type": "text"
      },
      "cell_type": "markdown",
      "source": [
        "There really isn't that much information here, we will need to bring in additional data sources to get any further understanding of these companies.\n",
        "\n",
        "The first question we might want to ask is how many employees does it take to get that revenue, in other words, what is the revenue per employee?  Luckily, we can use Wikipedia to get that data as well, I have scraped this data manually (all from Wikipedia) and created the following dictionary."
      ]
    },
    {
      "metadata": {
        "id": "yh1nWd5IFa68",
        "colab_type": "code",
        "colab": {}
      },
      "cell_type": "code",
      "source": [
        "other_data = [\n",
        "    {\"name\": \"Walmart\",\n",
        "     \"employees\": 2300000,\n",
        "     \"year founded\": 1962\n",
        "    },\n",
        "    {\"name\": \"State Grid Corporation of China\",\n",
        "     \"employees\": 927839,\n",
        "     \"year founded\": 2002},\n",
        "    {\"name\": \"China Petrochemical Corporation\",\n",
        "     \"employees\":358571,\n",
        "     \"year founded\": 1998\n",
        "     },\n",
        "    {\"name\": \"China National Petroleum Corporation\",\n",
        "     \"employees\": 1636532,\n",
        "     \"year founded\": 1988},\n",
        "    {\"name\": \"Toyota Motor Corporation\",\n",
        "     \"employees\": 364445,\n",
        "     \"year founded\": 1937},\n",
        "    {\"name\": \"Volkswagen AG\",\n",
        "     \"employees\": 642292,\n",
        "     \"year founded\": 1937},\n",
        "    {\"name\": \"Royal Dutch Shell\",\n",
        "     \"employees\": 92000,\n",
        "     \"year founded\": 1907},\n",
        "    {\"name\": \"Berkshire Hathaway Inc.\",\n",
        "     \"employees\":377000,\n",
        "     \"year founded\": 1839},\n",
        "    {\"name\": \"BP\",\n",
        "     \"employees\": 123000,\n",
        "     \"year founded\": 1976},\n",
        "    {\"name\": \"Exxon Mobile Corporation\",\n",
        "     \"employees\": 69600,\n",
        "     \"year founded\": 1999}\n",
        "]"
      ],
      "execution_count": 0,
      "outputs": []
    },
    {
      "metadata": {
        "id": "xkedhYbOFa7B",
        "colab_type": "text"
      },
      "cell_type": "markdown",
      "source": [
        "Some data have a slightly different name than in our original set, so we will keep a dictionary of mappings between the two.  We only include the mapping in the dictionary if there is a difference."
      ]
    },
    {
      "metadata": {
        "id": "nPxJMeCCFa7C",
        "colab_type": "code",
        "colab": {}
      },
      "cell_type": "code",
      "source": [
        "mapping = {\"China Petrochemical Corporation\":\"Sinopec Group\",\n",
        "           \"State Grid Corporation of China\":\"State Grid\",\n",
        "           \"China National Petroleum Corporation\":\"China National Petroleum\",\n",
        "           \"Toyota Motor Corporation\": \"Toyota Motor\",\n",
        "           \"Volkswagen AG\":\"Volkswagen\",\n",
        "           \"Berkshire Hathaway Inc.\":\"Berkshire Hathaway\",\n",
        "           \"Exxon Mobile Corporation\": \"Exxon Mobil\"\n",
        "          }"
      ],
      "execution_count": 0,
      "outputs": []
    },
    {
      "metadata": {
        "id": "L1fruUlNJTd7",
        "colab_type": "code",
        "colab": {}
      },
      "cell_type": "code",
      "source": [
        ""
      ],
      "execution_count": 0,
      "outputs": []
    },
    {
      "metadata": {
        "id": "Jmdi_xG0Fa7I",
        "colab_type": "text"
      },
      "cell_type": "markdown",
      "source": [
        "This data is one to one, meaning the data contained in one source only aligns with a single element in the other source, thus we should be able to put these together.  However, we know that the data isn't in a great form to be joined at the moment.  This is for two reasons\n",
        "\n",
        "1. All the names will not align (we need to use our mapping)\n",
        "2. The `list` structure is not optimized for looking through elements. \n",
        "\n",
        "While for 10 elements the second reason won't really matter, for larger data sets such performance considerations are extremely important.  We can turn this list of dictionaries into a dictionary of dictionaries, so we can quickly access each element of the data."
      ]
    },
    {
      "metadata": {
        "id": "9EZ8-qrkFa7K",
        "colab_type": "code",
        "outputId": "edf26b9c-f591-4a9d-9367-44cb2639588b",
        "colab": {
          "base_uri": "https://localhost:8080/",
          "height": 176
        }
      },
      "cell_type": "code",
      "source": [
        "dict_data = {k[\"name\"] : k for k in other_data}\n",
        "dict(list(dict_data.items())[0:3])"
      ],
      "execution_count": 0,
      "outputs": [
        {
          "output_type": "execute_result",
          "data": {
            "text/plain": [
              "{'Exxon Mobile Corporation': {'employees': 69600,\n",
              "  'name': 'Exxon Mobile Corporation',\n",
              "  'year founded': 1999},\n",
              " 'State Grid Corporation of China': {'employees': 927839,\n",
              "  'name': 'State Grid Corporation of China',\n",
              "  'year founded': 2002},\n",
              " 'Toyota Motor Corporation': {'employees': 364445,\n",
              "  'name': 'Toyota Motor Corporation',\n",
              "  'year founded': 1937}}"
            ]
          },
          "metadata": {
            "tags": []
          },
          "execution_count": 27
        }
      ]
    },
    {
      "metadata": {
        "id": "pF-6a04_Fa7S",
        "colab_type": "text"
      },
      "cell_type": "markdown",
      "source": [
        "Now we can easily compute the revenue per employee, we need to map the \"Company\" value in our original data with the \"name\" column of this other data, but we also need to use the mapping to ensure the columns will line up.  We in general don't want to mutate our original data, so lets make a new list of dictionaries with this new feature (revenue per employee).  On the course of doing this, we will need to handle converting some numbers like `$500 Billion` to a numeric value.  Lets create a function to do this."
      ]
    },
    {
      "metadata": {
        "id": "_F_Nz-XQFa7V",
        "colab_type": "code",
        "colab": {}
      },
      "cell_type": "code",
      "source": [
        "def convert_revenue(x):\n",
        "    return float(x.lstrip('$').rstrip('billion')) * 1e9\n",
        "\n",
        "assert convert_revenue('$500 billion') == 500e9"
      ],
      "execution_count": 0,
      "outputs": []
    },
    {
      "metadata": {
        "id": "YTW1_uAhFa7b",
        "colab_type": "text"
      },
      "cell_type": "markdown",
      "source": [
        "Now we can convert this revenue, but unfortunately the mapping we have written goes the wrong way, lets invert it."
      ]
    },
    {
      "metadata": {
        "id": "5_qtbJbaFa7f",
        "colab_type": "code",
        "colab": {}
      },
      "cell_type": "code",
      "source": [
        "inv_map = {v : k for k,v in mapping.iteritems()}"
      ],
      "execution_count": 0,
      "outputs": []
    },
    {
      "metadata": {
        "id": "bFneh0goFa7l",
        "colab_type": "text"
      },
      "cell_type": "markdown",
      "source": [
        "Now we should be able to create a few functions to compute this revenue per employee and create a data list."
      ]
    },
    {
      "metadata": {
        "id": "e1I1-9z2Fa7m",
        "colab_type": "code",
        "colab": {}
      },
      "cell_type": "code",
      "source": [
        "def rev_per_emp(company):\n",
        "    name = company[u'Company']\n",
        "    n_employees = dict_data[inv_map.get(name, name)].get('employees')\n",
        "    company['rev per emp'] = convert_revenue(company[u'Revenue in USD'])/n_employees\n",
        "    return company\n",
        "\n",
        "def compute_copy(d, func):\n",
        "    return func({k:v for k,v in d.iteritems()})\n",
        "\n",
        "data = map(lambda x : compute_copy(x, rev_per_emp), fortune_500)"
      ],
      "execution_count": 0,
      "outputs": []
    },
    {
      "metadata": {
        "id": "oeHVPORzFa7r",
        "colab_type": "text"
      },
      "cell_type": "markdown",
      "source": [
        "Lets take a look at our new data and also the old data to ensure we didn't mutate anything."
      ]
    },
    {
      "metadata": {
        "id": "p4MxLnaEFa7t",
        "colab_type": "code",
        "outputId": "11c443d3-e90b-47eb-f008-13f2bdfcc50e",
        "colab": {
          "base_uri": "https://localhost:8080/",
          "height": 230
        }
      },
      "cell_type": "code",
      "source": [
        "data[:2]"
      ],
      "execution_count": 0,
      "outputs": [
        {
          "output_type": "execute_result",
          "data": {
            "text/plain": [
              "[{u'Company': u'Walmart',\n",
              "  u'Country': u'United States',\n",
              "  u'Industry': u'Retail',\n",
              "  u'Rank': 1,\n",
              "  u'Revenue in USD': u'$500 billion',\n",
              "  'rev per emp': 217391.30434782608},\n",
              " {u'Company': u'State Grid',\n",
              "  u'Country': u'China',\n",
              "  u'Industry': u'Power',\n",
              "  u'Rank': 2,\n",
              "  u'Revenue in USD': u'$349 billion',\n",
              "  'rev per emp': 376142.84374767606}]"
            ]
          },
          "metadata": {
            "tags": []
          },
          "execution_count": 40
        }
      ]
    },
    {
      "metadata": {
        "id": "dg09FEWYFa7y",
        "colab_type": "code",
        "outputId": "f2f466ad-2dd7-48f2-a902-e93c08ee1d26",
        "colab": {
          "base_uri": "https://localhost:8080/",
          "height": 194
        }
      },
      "cell_type": "code",
      "source": [
        "fortune_500[:2]"
      ],
      "execution_count": 0,
      "outputs": [
        {
          "output_type": "execute_result",
          "data": {
            "text/plain": [
              "[{u'Company': u'Walmart',\n",
              "  u'Country': u'United States',\n",
              "  u'Industry': u'Retail',\n",
              "  u'Rank': 1,\n",
              "  u'Revenue in USD': u'$500 billion'},\n",
              " {u'Company': u'State Grid',\n",
              "  u'Country': u'China',\n",
              "  u'Industry': u'Power',\n",
              "  u'Rank': 2,\n",
              "  u'Revenue in USD': u'$349 billion'}]"
            ]
          },
          "metadata": {
            "tags": []
          },
          "execution_count": 41
        }
      ]
    },
    {
      "metadata": {
        "id": "blHd3FFxFa73",
        "colab_type": "text"
      },
      "cell_type": "markdown",
      "source": [
        "Now we can sort these values.  We first can select out on the elements we care about and then sort that list."
      ]
    },
    {
      "metadata": {
        "id": "6oaL1dm0Fa76",
        "colab_type": "code",
        "outputId": "301c78bf-33cb-4d8a-9ee7-50a9715fc331",
        "colab": {
          "base_uri": "https://localhost:8080/",
          "height": 221
        }
      },
      "cell_type": "code",
      "source": [
        "rev_per_emp = sorted([(i[u'Company'], i['rev per emp']) for i in data], \n",
        "                   key=lambda x : x[1],\n",
        "                   reverse=True)\n",
        "rev_per_emp"
      ],
      "execution_count": 0,
      "outputs": [
        {
          "output_type": "error",
          "ename": "TypeError",
          "evalue": "ignored",
          "traceback": [
            "\u001b[0;31m\u001b[0m",
            "\u001b[0;31mTypeError\u001b[0mTraceback (most recent call last)",
            "\u001b[0;32m<ipython-input-54-bf61de994467>\u001b[0m in \u001b[0;36m<module>\u001b[0;34m()\u001b[0m\n\u001b[0;32m----> 1\u001b[0;31m rev_per_emp = sorted([(i[u'Company'], i['rev per emp']) for i in data], \n\u001b[0m\u001b[1;32m      2\u001b[0m                    \u001b[0mkey\u001b[0m\u001b[0;34m=\u001b[0m\u001b[0;32mlambda\u001b[0m \u001b[0mx\u001b[0m \u001b[0;34m:\u001b[0m \u001b[0mx\u001b[0m\u001b[0;34m[\u001b[0m\u001b[0;36m1\u001b[0m\u001b[0;34m]\u001b[0m\u001b[0;34m,\u001b[0m\u001b[0;34m\u001b[0m\u001b[0m\n\u001b[1;32m      3\u001b[0m                    reverse=True)\n\u001b[1;32m      4\u001b[0m \u001b[0mrev_per_emp\u001b[0m\u001b[0;34m\u001b[0m\u001b[0m\n",
            "\u001b[0;31mTypeError\u001b[0m: string indices must be integers"
          ]
        }
      ]
    },
    {
      "metadata": {
        "id": "7rQOwlkpFa7_",
        "colab_type": "text"
      },
      "cell_type": "markdown",
      "source": [
        "\n",
        "\n",
        "Now lets pull in some other data (as this is data science, more data is always better!).  We can see that these companies are in a few different industries, lets find out which ones."
      ]
    },
    {
      "metadata": {
        "id": "j_r518NZFa8D",
        "colab_type": "code",
        "colab": {}
      },
      "cell_type": "code",
      "source": [
        "from collections import Counter\n",
        "Counter(i[u'Industry'] for i in data)"
      ],
      "execution_count": 0,
      "outputs": []
    },
    {
      "metadata": {
        "id": "tNq3JdGLFa8I",
        "colab_type": "text"
      },
      "cell_type": "markdown",
      "source": [
        "One thing we might want to know is what sort of market share they have of the specific industry to which they belong.  Let's look at the two industries that categorize the 6 of the top 10, `Automobiles` and `Petroleum`.  We can select only those elements of our data to work with."
      ]
    },
    {
      "metadata": {
        "id": "P0Te35goFa8J",
        "colab_type": "code",
        "colab": {}
      },
      "cell_type": "code",
      "source": [
        "sub_data = [i for i in data if i[u'Industry'] in [u'Automobiles', u'Petroleum']]\n",
        "sub_data"
      ],
      "execution_count": 0,
      "outputs": []
    },
    {
      "metadata": {
        "id": "yt_HGsaqFa8U",
        "colab_type": "text"
      },
      "cell_type": "markdown",
      "source": [
        "It might be the case that the each particular category has a different relevant metric for market share.  For example, we could look at total revenue for a car company or we could look at cars produced.  \n",
        "\n",
        "So for the automobile industry we will look at the percent total of cars produced.  We can get this data again from Wikipedia."
      ]
    },
    {
      "metadata": {
        "id": "VCxEtWBnFa8V",
        "colab_type": "code",
        "colab": {}
      },
      "cell_type": "code",
      "source": [
        "df_list = pd.read_html(\"https://en.wikipedia.org/wiki/Automotive_industry\", header=0)\n",
        "car_totals = json.loads(df_list[0].to_json(orient=\"records\"))\n",
        "car_by_man = json.loads(df_list[2].to_json(orient='records'))"
      ],
      "execution_count": 0,
      "outputs": []
    },
    {
      "metadata": {
        "id": "ENidARbdFa8a",
        "colab_type": "code",
        "outputId": "b9bbb2b3-d1a2-45f6-c038-a142b1879431",
        "colab": {
          "base_uri": "https://localhost:8080/",
          "height": 158
        }
      },
      "cell_type": "code",
      "source": [
        "car_totals[:2]"
      ],
      "execution_count": 0,
      "outputs": [
        {
          "output_type": "execute_result",
          "data": {
            "text/plain": [
              "[{u'Change': u'\\u2014',\n",
              "  u'Production': 54434000,\n",
              "  u'Source': u'[17]',\n",
              "  u'Year': 1997},\n",
              " {u'Change': u'2.7%',\n",
              "  u'Production': 52987000,\n",
              "  u'Source': u'[17]',\n",
              "  u'Year': 1998}]"
            ]
          },
          "metadata": {
            "tags": []
          },
          "execution_count": 58
        }
      ]
    },
    {
      "metadata": {
        "id": "VDO_cKT5Fa8e",
        "colab_type": "code",
        "outputId": "0b3cfeb7-8cff-4a28-ea52-2237dd247e3a",
        "colab": {
          "base_uri": "https://localhost:8080/",
          "height": 158
        }
      },
      "cell_type": "code",
      "source": [
        "car_by_man[:2]"
      ],
      "execution_count": 0,
      "outputs": [
        {
          "output_type": "execute_result",
          "data": {
            "text/plain": [
              "[{u'Country': u'Japan',\n",
              "  u'Group': u'Toyota',\n",
              "  u'Rank': 1,\n",
              "  u'Vehicles': 10213486},\n",
              " {u'Country': u'Germany',\n",
              "  u'Group': u'Volkswagen Group',\n",
              "  u'Rank': 2,\n",
              "  u'Vehicles': 10126281}]"
            ]
          },
          "metadata": {
            "tags": []
          },
          "execution_count": 59
        }
      ]
    },
    {
      "metadata": {
        "id": "HOSHUfx7Fa8j",
        "colab_type": "text"
      },
      "cell_type": "markdown",
      "source": [
        "Now lets get only the groups we care about and divide by the total production which we will take as the latest year."
      ]
    },
    {
      "metadata": {
        "id": "TtiieizHFa8l",
        "colab_type": "code",
        "outputId": "40b55435-c164-4758-ef42-832fcea9b31a",
        "colab": {
          "base_uri": "https://localhost:8080/",
          "height": 34
        }
      },
      "cell_type": "code",
      "source": [
        "total_prod = sorted((i[u\"Year\"], i[u'Production']) for i in car_totals)[-1][1]\n",
        "total_prod"
      ],
      "execution_count": 0,
      "outputs": [
        {
          "output_type": "execute_result",
          "data": {
            "text/plain": [
              "97302534"
            ]
          },
          "metadata": {
            "tags": []
          },
          "execution_count": 60
        }
      ]
    },
    {
      "metadata": {
        "id": "fIPNVttcFa8r",
        "colab_type": "text"
      },
      "cell_type": "markdown",
      "source": [
        "Now we can find the market share for each of the car companies. We will keep track of a market share dictionary.  We will again need to keep track of some slight name differences."
      ]
    },
    {
      "metadata": {
        "id": "L_y8eThbFa8s",
        "colab_type": "code",
        "outputId": "3fce45d8-d75e-4126-9b79-b7ed74e32c99",
        "colab": {
          "base_uri": "https://localhost:8080/",
          "height": 34
        }
      },
      "cell_type": "code",
      "source": [
        "car_by_man_dict = {i[u'Group']:i[u'Vehicles'] for i in car_by_man}\n",
        "market_share = {}\n",
        "for name, orig_name in zip(['Toyota', 'Volkswagen Group'], ['Toyota', 'Volkswagen']):\n",
        "    market_share[orig_name] = car_by_man_dict[name]/ float(total_prod)\n",
        "    \n",
        "market_share"
      ],
      "execution_count": 0,
      "outputs": [
        {
          "output_type": "execute_result",
          "data": {
            "text/plain": [
              "{'Toyota': 0.1049662899837737, 'Volkswagen': 0.10407006460900597}"
            ]
          },
          "metadata": {
            "tags": []
          },
          "execution_count": 61
        }
      ]
    },
    {
      "metadata": {
        "id": "oojc1THtFa8w",
        "colab_type": "text"
      },
      "cell_type": "markdown",
      "source": [
        "Now we can do the same for the Petroleum industry, but in this case, lets compute the market share by revenue.  On Wikipedia, we can find a list of oil companies by revenue.  Although its not a complete list, it has enough companies that we don't expect the companies left off the list to contribute greatly to our analysis."
      ]
    },
    {
      "metadata": {
        "id": "BWrZFR65Fa8x",
        "colab_type": "code",
        "outputId": "598a0ee4-62c2-4530-90e8-c7c3702a6ee7",
        "colab": {
          "base_uri": "https://localhost:8080/",
          "height": 52
        }
      },
      "cell_type": "code",
      "source": [
        "rev = pd.read_html(\"https://en.wikipedia.org/wiki/List_of_largest_oil_and_gas_companies_by_revenue\", header=1)[0]\n",
        "rev = rev.iloc[:, 1:3]\n",
        "rev.columns = ['Company', 'Revenue']\n",
        "oil_data = json.loads(rev.to_json(orient=\"records\"))\n",
        "oil_data[:2]"
      ],
      "execution_count": 0,
      "outputs": [
        {
          "output_type": "execute_result",
          "data": {
            "text/plain": [
              "[{u'Company': u'Saudi Aramco', u'Revenue': u'465.49'},\n",
              " {u'Company': u'Sinopec Group', u'Revenue': u'448.00'}]"
            ]
          },
          "metadata": {
            "tags": []
          },
          "execution_count": 62
        }
      ]
    },
    {
      "metadata": {
        "id": "BgMvJmfBFa81",
        "colab_type": "text"
      },
      "cell_type": "markdown",
      "source": [
        "Now we can compute the totals and market share.  Since the data here might be slightly different (perhaps older) than our original data, we will compute the market share of each company within this data set, then pull out the numbers we care about."
      ]
    },
    {
      "metadata": {
        "id": "9xj6ybqJFa82",
        "colab_type": "code",
        "outputId": "99ac3970-e68d-4afc-a231-f967943b5acb",
        "colab": {
          "base_uri": "https://localhost:8080/",
          "height": 34
        }
      },
      "cell_type": "code",
      "source": [
        "total = sum([float(i[u'Revenue'].rstrip('*')) for i in oil_data])\n",
        "shares = {i[u'Company']:float(i[u'Revenue'].rstrip('*'))/total for i in oil_data}\n",
        "print total"
      ],
      "execution_count": 0,
      "outputs": [
        {
          "output_type": "stream",
          "text": [
            "5532.09\n"
          ],
          "name": "stdout"
        }
      ]
    },
    {
      "metadata": {
        "id": "vUVnFg_ZFa85",
        "colab_type": "text"
      },
      "cell_type": "markdown",
      "source": [
        "Now we can pull out the companies we care about in the petroleum industry."
      ]
    },
    {
      "metadata": {
        "id": "F242JS2EFa87",
        "colab_type": "code",
        "colab": {}
      },
      "cell_type": "code",
      "source": [
        "petro_companies = [i[u'Company'] for i in data if i['Industry'] == u'Petroleum']\n",
        "petro_companies"
      ],
      "execution_count": 0,
      "outputs": []
    },
    {
      "metadata": {
        "id": "xNetaivtFa9B",
        "colab_type": "text"
      },
      "cell_type": "markdown",
      "source": [
        "Lets check if these are all in the our shares dictionary."
      ]
    },
    {
      "metadata": {
        "id": "OuSgqIVPFa9C",
        "colab_type": "code",
        "colab": {}
      },
      "cell_type": "code",
      "source": [
        "[(i, i in shares) for i in petro_companies]"
      ],
      "execution_count": 0,
      "outputs": []
    },
    {
      "metadata": {
        "id": "px3Jr0bOFa9G",
        "colab_type": "text"
      },
      "cell_type": "markdown",
      "source": [
        "Some of these companies are directly there, and looking through our dictionary, we can see the others are there without exact names."
      ]
    },
    {
      "metadata": {
        "id": "O45_gNA_Fa9I",
        "colab_type": "code",
        "colab": {}
      },
      "cell_type": "code",
      "source": [
        "shares.keys()"
      ],
      "execution_count": 0,
      "outputs": []
    },
    {
      "metadata": {
        "id": "YmWTGN6LFa9L",
        "colab_type": "text"
      },
      "cell_type": "markdown",
      "source": [
        "So lets make a fuzzy match, this will be a pretty simple one where it will try to match words in a name and take the maximum number of matches."
      ]
    },
    {
      "metadata": {
        "id": "zod_mJ1kFa9M",
        "colab_type": "code",
        "colab": {}
      },
      "cell_type": "code",
      "source": [
        "def fuzzy_match(word, s):\n",
        "    words = set(word.split(' '))\n",
        "    overlaps = [(k, len(v.intersection(words))) for k, v in s.iteritems()]\n",
        "    return max(overlaps, key=lambda x : x[1])[0]"
      ],
      "execution_count": 0,
      "outputs": []
    },
    {
      "metadata": {
        "id": "FhfFjOHjFa9P",
        "colab_type": "code",
        "outputId": "e4df769d-8726-4e36-f99b-835b92d8460f",
        "colab": {
          "base_uri": "https://localhost:8080/",
          "height": 238
        }
      },
      "cell_type": "code",
      "source": [
        "split_names = {i: set(i.split(' ')) for i in shares.keys()}\n",
        "for i in petro_companies:\n",
        "    match = fuzzy_match(i, split_names)\n",
        "    print \"matched {} to {}\".format(i, match)\n",
        "    market_share[i] = shares[match]"
      ],
      "execution_count": 0,
      "outputs": [
        {
          "output_type": "error",
          "ename": "NameError",
          "evalue": "ignored",
          "traceback": [
            "\u001b[0;31m\u001b[0m",
            "\u001b[0;31mNameError\u001b[0mTraceback (most recent call last)",
            "\u001b[0;32m<ipython-input-66-b8e2965e8449>\u001b[0m in \u001b[0;36m<module>\u001b[0;34m()\u001b[0m\n\u001b[1;32m      1\u001b[0m \u001b[0msplit_names\u001b[0m \u001b[0;34m=\u001b[0m \u001b[0;34m{\u001b[0m\u001b[0mi\u001b[0m\u001b[0;34m:\u001b[0m \u001b[0mset\u001b[0m\u001b[0;34m(\u001b[0m\u001b[0mi\u001b[0m\u001b[0;34m.\u001b[0m\u001b[0msplit\u001b[0m\u001b[0;34m(\u001b[0m\u001b[0;34m' '\u001b[0m\u001b[0;34m)\u001b[0m\u001b[0;34m)\u001b[0m \u001b[0;32mfor\u001b[0m \u001b[0mi\u001b[0m \u001b[0;32min\u001b[0m \u001b[0mshares\u001b[0m\u001b[0;34m.\u001b[0m\u001b[0mkeys\u001b[0m\u001b[0;34m(\u001b[0m\u001b[0;34m)\u001b[0m\u001b[0;34m}\u001b[0m\u001b[0;34m\u001b[0m\u001b[0m\n\u001b[0;32m----> 2\u001b[0;31m \u001b[0;32mfor\u001b[0m \u001b[0mi\u001b[0m \u001b[0;32min\u001b[0m \u001b[0mpetro_companies\u001b[0m\u001b[0;34m:\u001b[0m\u001b[0;34m\u001b[0m\u001b[0m\n\u001b[0m\u001b[1;32m      3\u001b[0m     \u001b[0mmatch\u001b[0m \u001b[0;34m=\u001b[0m \u001b[0mfuzzy_match\u001b[0m\u001b[0;34m(\u001b[0m\u001b[0mi\u001b[0m\u001b[0;34m,\u001b[0m \u001b[0msplit_names\u001b[0m\u001b[0;34m)\u001b[0m\u001b[0;34m\u001b[0m\u001b[0m\n\u001b[1;32m      4\u001b[0m     \u001b[0;32mprint\u001b[0m \u001b[0;34m\"matched {} to {}\"\u001b[0m\u001b[0;34m.\u001b[0m\u001b[0mformat\u001b[0m\u001b[0;34m(\u001b[0m\u001b[0mi\u001b[0m\u001b[0;34m,\u001b[0m \u001b[0mmatch\u001b[0m\u001b[0;34m)\u001b[0m\u001b[0;34m\u001b[0m\u001b[0m\n\u001b[1;32m      5\u001b[0m     \u001b[0mmarket_share\u001b[0m\u001b[0;34m[\u001b[0m\u001b[0mi\u001b[0m\u001b[0;34m]\u001b[0m \u001b[0;34m=\u001b[0m \u001b[0mshares\u001b[0m\u001b[0;34m[\u001b[0m\u001b[0mmatch\u001b[0m\u001b[0;34m]\u001b[0m\u001b[0;34m\u001b[0m\u001b[0m\n",
            "\u001b[0;31mNameError\u001b[0m: name 'petro_companies' is not defined"
          ]
        }
      ]
    },
    {
      "metadata": {
        "id": "wy8cChFRFa9S",
        "colab_type": "code",
        "colab": {}
      },
      "cell_type": "code",
      "source": [
        "market_share"
      ],
      "execution_count": 0,
      "outputs": []
    },
    {
      "metadata": {
        "id": "4M5InZIPFa9W",
        "colab_type": "text"
      },
      "cell_type": "markdown",
      "source": [
        "## The more common use case With Pandas\n",
        "\n",
        "Now we can also perform these same computations with Pandas, lets see how this compares."
      ]
    },
    {
      "metadata": {
        "id": "hXBHuyWYFa9X",
        "colab_type": "code",
        "outputId": "6322caf4-ecbd-424c-84e8-ad0afb9f31ba",
        "colab": {
          "base_uri": "https://localhost:8080/",
          "height": 347
        }
      },
      "cell_type": "code",
      "source": [
        "df = pd.read_html('https://en.wikipedia.org/wiki/Fortune_Global_500', header=0)[0]\n",
        "df"
      ],
      "execution_count": 0,
      "outputs": [
        {
          "output_type": "execute_result",
          "data": {
            "text/html": [
              "<div>\n",
              "<style scoped>\n",
              "    .dataframe tbody tr th:only-of-type {\n",
              "        vertical-align: middle;\n",
              "    }\n",
              "\n",
              "    .dataframe tbody tr th {\n",
              "        vertical-align: top;\n",
              "    }\n",
              "\n",
              "    .dataframe thead th {\n",
              "        text-align: right;\n",
              "    }\n",
              "</style>\n",
              "<table border=\"1\" class=\"dataframe\">\n",
              "  <thead>\n",
              "    <tr style=\"text-align: right;\">\n",
              "      <th></th>\n",
              "      <th>Rank</th>\n",
              "      <th>Company</th>\n",
              "      <th>Country</th>\n",
              "      <th>Industry</th>\n",
              "      <th>Revenue in USD</th>\n",
              "    </tr>\n",
              "  </thead>\n",
              "  <tbody>\n",
              "    <tr>\n",
              "      <th>0</th>\n",
              "      <td>1</td>\n",
              "      <td>Walmart</td>\n",
              "      <td>United States</td>\n",
              "      <td>Retail</td>\n",
              "      <td>$500 billion</td>\n",
              "    </tr>\n",
              "    <tr>\n",
              "      <th>1</th>\n",
              "      <td>2</td>\n",
              "      <td>State Grid</td>\n",
              "      <td>China</td>\n",
              "      <td>Power</td>\n",
              "      <td>$349 billion</td>\n",
              "    </tr>\n",
              "    <tr>\n",
              "      <th>2</th>\n",
              "      <td>3</td>\n",
              "      <td>Sinopec Group</td>\n",
              "      <td>China</td>\n",
              "      <td>Petroleum</td>\n",
              "      <td>$327 billion</td>\n",
              "    </tr>\n",
              "    <tr>\n",
              "      <th>3</th>\n",
              "      <td>4</td>\n",
              "      <td>China National Petroleum</td>\n",
              "      <td>China</td>\n",
              "      <td>Petroleum</td>\n",
              "      <td>$326 billion</td>\n",
              "    </tr>\n",
              "    <tr>\n",
              "      <th>4</th>\n",
              "      <td>5</td>\n",
              "      <td>Royal Dutch Shell</td>\n",
              "      <td>Netherlands  United Kingdom</td>\n",
              "      <td>Petroleum</td>\n",
              "      <td>$312 billion</td>\n",
              "    </tr>\n",
              "    <tr>\n",
              "      <th>5</th>\n",
              "      <td>6</td>\n",
              "      <td>Toyota Motor</td>\n",
              "      <td>Japan</td>\n",
              "      <td>Automobiles</td>\n",
              "      <td>$265 billion</td>\n",
              "    </tr>\n",
              "    <tr>\n",
              "      <th>6</th>\n",
              "      <td>7</td>\n",
              "      <td>Volkswagen</td>\n",
              "      <td>Germany</td>\n",
              "      <td>Automobiles</td>\n",
              "      <td>$260 billion</td>\n",
              "    </tr>\n",
              "    <tr>\n",
              "      <th>7</th>\n",
              "      <td>8</td>\n",
              "      <td>BP</td>\n",
              "      <td>United Kingdom</td>\n",
              "      <td>Petroleum</td>\n",
              "      <td>$245 billion</td>\n",
              "    </tr>\n",
              "    <tr>\n",
              "      <th>8</th>\n",
              "      <td>9</td>\n",
              "      <td>Exxon Mobil</td>\n",
              "      <td>United States</td>\n",
              "      <td>Petroleum</td>\n",
              "      <td>$244 billion</td>\n",
              "    </tr>\n",
              "    <tr>\n",
              "      <th>9</th>\n",
              "      <td>10</td>\n",
              "      <td>Berkshire Hathaway</td>\n",
              "      <td>United States</td>\n",
              "      <td>Holding</td>\n",
              "      <td>$242 billion</td>\n",
              "    </tr>\n",
              "  </tbody>\n",
              "</table>\n",
              "</div>"
            ],
            "text/plain": [
              "   Rank                   Company                      Country     Industry  \\\n",
              "0     1                   Walmart                United States       Retail   \n",
              "1     2                State Grid                        China        Power   \n",
              "2     3             Sinopec Group                        China    Petroleum   \n",
              "3     4  China National Petroleum                        China    Petroleum   \n",
              "4     5         Royal Dutch Shell  Netherlands  United Kingdom    Petroleum   \n",
              "5     6              Toyota Motor                        Japan  Automobiles   \n",
              "6     7                Volkswagen                      Germany  Automobiles   \n",
              "7     8                        BP               United Kingdom    Petroleum   \n",
              "8     9               Exxon Mobil                United States    Petroleum   \n",
              "9    10        Berkshire Hathaway                United States      Holding   \n",
              "\n",
              "  Revenue in USD  \n",
              "0   $500 billion  \n",
              "1   $349 billion  \n",
              "2   $327 billion  \n",
              "3   $326 billion  \n",
              "4   $312 billion  \n",
              "5   $265 billion  \n",
              "6   $260 billion  \n",
              "7   $245 billion  \n",
              "8   $244 billion  \n",
              "9   $242 billion  "
            ]
          },
          "metadata": {
            "tags": []
          },
          "execution_count": 68
        }
      ]
    },
    {
      "metadata": {
        "id": "NJh0xBXeFa9a",
        "colab_type": "code",
        "outputId": "ac182d9e-edc6-4232-b8a6-35d9389cae06",
        "colab": {
          "base_uri": "https://localhost:8080/",
          "height": 564
        }
      },
      "cell_type": "code",
      "source": [
        "df['rev'] = df['Revenue in USD'].apply(convert_revenue)\n",
        "df['employees'] = df['Company'].apply(lambda x : dict_data[inv_map.get(x, x)].get('employees'))\n",
        "df['rev_per_employee'] = df['rev'] / df['employees'].astype(float)\n",
        "df.sort_values(by='rev_per_employee', ascending=False)"
      ],
      "execution_count": 0,
      "outputs": [
        {
          "output_type": "execute_result",
          "data": {
            "text/html": [
              "<div>\n",
              "<style scoped>\n",
              "    .dataframe tbody tr th:only-of-type {\n",
              "        vertical-align: middle;\n",
              "    }\n",
              "\n",
              "    .dataframe tbody tr th {\n",
              "        vertical-align: top;\n",
              "    }\n",
              "\n",
              "    .dataframe thead th {\n",
              "        text-align: right;\n",
              "    }\n",
              "</style>\n",
              "<table border=\"1\" class=\"dataframe\">\n",
              "  <thead>\n",
              "    <tr style=\"text-align: right;\">\n",
              "      <th></th>\n",
              "      <th>Rank</th>\n",
              "      <th>Company</th>\n",
              "      <th>Country</th>\n",
              "      <th>Industry</th>\n",
              "      <th>Revenue in USD</th>\n",
              "      <th>rev</th>\n",
              "      <th>employees</th>\n",
              "      <th>rev_per_employee</th>\n",
              "    </tr>\n",
              "  </thead>\n",
              "  <tbody>\n",
              "    <tr>\n",
              "      <th>8</th>\n",
              "      <td>9</td>\n",
              "      <td>Exxon Mobil</td>\n",
              "      <td>United States</td>\n",
              "      <td>Petroleum</td>\n",
              "      <td>$244 billion</td>\n",
              "      <td>2.440000e+11</td>\n",
              "      <td>69600</td>\n",
              "      <td>3.505747e+06</td>\n",
              "    </tr>\n",
              "    <tr>\n",
              "      <th>4</th>\n",
              "      <td>5</td>\n",
              "      <td>Royal Dutch Shell</td>\n",
              "      <td>Netherlands  United Kingdom</td>\n",
              "      <td>Petroleum</td>\n",
              "      <td>$312 billion</td>\n",
              "      <td>3.120000e+11</td>\n",
              "      <td>92000</td>\n",
              "      <td>3.391304e+06</td>\n",
              "    </tr>\n",
              "    <tr>\n",
              "      <th>7</th>\n",
              "      <td>8</td>\n",
              "      <td>BP</td>\n",
              "      <td>United Kingdom</td>\n",
              "      <td>Petroleum</td>\n",
              "      <td>$245 billion</td>\n",
              "      <td>2.450000e+11</td>\n",
              "      <td>123000</td>\n",
              "      <td>1.991870e+06</td>\n",
              "    </tr>\n",
              "    <tr>\n",
              "      <th>2</th>\n",
              "      <td>3</td>\n",
              "      <td>Sinopec Group</td>\n",
              "      <td>China</td>\n",
              "      <td>Petroleum</td>\n",
              "      <td>$327 billion</td>\n",
              "      <td>3.270000e+11</td>\n",
              "      <td>358571</td>\n",
              "      <td>9.119533e+05</td>\n",
              "    </tr>\n",
              "    <tr>\n",
              "      <th>5</th>\n",
              "      <td>6</td>\n",
              "      <td>Toyota Motor</td>\n",
              "      <td>Japan</td>\n",
              "      <td>Automobiles</td>\n",
              "      <td>$265 billion</td>\n",
              "      <td>2.650000e+11</td>\n",
              "      <td>364445</td>\n",
              "      <td>7.271330e+05</td>\n",
              "    </tr>\n",
              "    <tr>\n",
              "      <th>9</th>\n",
              "      <td>10</td>\n",
              "      <td>Berkshire Hathaway</td>\n",
              "      <td>United States</td>\n",
              "      <td>Holding</td>\n",
              "      <td>$242 billion</td>\n",
              "      <td>2.420000e+11</td>\n",
              "      <td>377000</td>\n",
              "      <td>6.419098e+05</td>\n",
              "    </tr>\n",
              "    <tr>\n",
              "      <th>6</th>\n",
              "      <td>7</td>\n",
              "      <td>Volkswagen</td>\n",
              "      <td>Germany</td>\n",
              "      <td>Automobiles</td>\n",
              "      <td>$260 billion</td>\n",
              "      <td>2.600000e+11</td>\n",
              "      <td>642292</td>\n",
              "      <td>4.048003e+05</td>\n",
              "    </tr>\n",
              "    <tr>\n",
              "      <th>1</th>\n",
              "      <td>2</td>\n",
              "      <td>State Grid</td>\n",
              "      <td>China</td>\n",
              "      <td>Power</td>\n",
              "      <td>$349 billion</td>\n",
              "      <td>3.490000e+11</td>\n",
              "      <td>927839</td>\n",
              "      <td>3.761428e+05</td>\n",
              "    </tr>\n",
              "    <tr>\n",
              "      <th>0</th>\n",
              "      <td>1</td>\n",
              "      <td>Walmart</td>\n",
              "      <td>United States</td>\n",
              "      <td>Retail</td>\n",
              "      <td>$500 billion</td>\n",
              "      <td>5.000000e+11</td>\n",
              "      <td>2300000</td>\n",
              "      <td>2.173913e+05</td>\n",
              "    </tr>\n",
              "    <tr>\n",
              "      <th>3</th>\n",
              "      <td>4</td>\n",
              "      <td>China National Petroleum</td>\n",
              "      <td>China</td>\n",
              "      <td>Petroleum</td>\n",
              "      <td>$326 billion</td>\n",
              "      <td>3.260000e+11</td>\n",
              "      <td>1636532</td>\n",
              "      <td>1.992017e+05</td>\n",
              "    </tr>\n",
              "  </tbody>\n",
              "</table>\n",
              "</div>"
            ],
            "text/plain": [
              "   Rank                   Company                      Country     Industry  \\\n",
              "8     9               Exxon Mobil                United States    Petroleum   \n",
              "4     5         Royal Dutch Shell  Netherlands  United Kingdom    Petroleum   \n",
              "7     8                        BP               United Kingdom    Petroleum   \n",
              "2     3             Sinopec Group                        China    Petroleum   \n",
              "5     6              Toyota Motor                        Japan  Automobiles   \n",
              "9    10        Berkshire Hathaway                United States      Holding   \n",
              "6     7                Volkswagen                      Germany  Automobiles   \n",
              "1     2                State Grid                        China        Power   \n",
              "0     1                   Walmart                United States       Retail   \n",
              "3     4  China National Petroleum                        China    Petroleum   \n",
              "\n",
              "  Revenue in USD           rev  employees  rev_per_employee  \n",
              "8   $244 billion  2.440000e+11      69600      3.505747e+06  \n",
              "4   $312 billion  3.120000e+11      92000      3.391304e+06  \n",
              "7   $245 billion  2.450000e+11     123000      1.991870e+06  \n",
              "2   $327 billion  3.270000e+11     358571      9.119533e+05  \n",
              "5   $265 billion  2.650000e+11     364445      7.271330e+05  \n",
              "9   $242 billion  2.420000e+11     377000      6.419098e+05  \n",
              "6   $260 billion  2.600000e+11     642292      4.048003e+05  \n",
              "1   $349 billion  3.490000e+11     927839      3.761428e+05  \n",
              "0   $500 billion  5.000000e+11    2300000      2.173913e+05  \n",
              "3   $326 billion  3.260000e+11    1636532      1.992017e+05  "
            ]
          },
          "metadata": {
            "tags": []
          },
          "execution_count": 69
        }
      ]
    },
    {
      "metadata": {
        "id": "uovAVR_MFa9c",
        "colab_type": "code",
        "outputId": "d28b3c7c-74f3-415d-f08e-eaa992a667b9",
        "colab": {
          "base_uri": "https://localhost:8080/",
          "height": 677
        }
      },
      "cell_type": "code",
      "source": [
        "df_list = pd.read_html(\"https://en.wikipedia.org/wiki/Automotive_industry\", header=0)\n",
        "df_totals = df_list[0]\n",
        "df_by_man = df_list[2]\n",
        "df_totals\n"
      ],
      "execution_count": 0,
      "outputs": [
        {
          "output_type": "execute_result",
          "data": {
            "text/html": [
              "<div>\n",
              "<style scoped>\n",
              "    .dataframe tbody tr th:only-of-type {\n",
              "        vertical-align: middle;\n",
              "    }\n",
              "\n",
              "    .dataframe tbody tr th {\n",
              "        vertical-align: top;\n",
              "    }\n",
              "\n",
              "    .dataframe thead th {\n",
              "        text-align: right;\n",
              "    }\n",
              "</style>\n",
              "<table border=\"1\" class=\"dataframe\">\n",
              "  <thead>\n",
              "    <tr style=\"text-align: right;\">\n",
              "      <th></th>\n",
              "      <th>Year</th>\n",
              "      <th>Production</th>\n",
              "      <th>Change</th>\n",
              "      <th>Source</th>\n",
              "    </tr>\n",
              "  </thead>\n",
              "  <tbody>\n",
              "    <tr>\n",
              "      <th>0</th>\n",
              "      <td>1997</td>\n",
              "      <td>54434000</td>\n",
              "      <td>—</td>\n",
              "      <td>[17]</td>\n",
              "    </tr>\n",
              "    <tr>\n",
              "      <th>1</th>\n",
              "      <td>1998</td>\n",
              "      <td>52987000</td>\n",
              "      <td>2.7%</td>\n",
              "      <td>[17]</td>\n",
              "    </tr>\n",
              "    <tr>\n",
              "      <th>2</th>\n",
              "      <td>1999</td>\n",
              "      <td>56258892</td>\n",
              "      <td>6.2%</td>\n",
              "      <td>[18]</td>\n",
              "    </tr>\n",
              "    <tr>\n",
              "      <th>3</th>\n",
              "      <td>2000</td>\n",
              "      <td>58374162</td>\n",
              "      <td>3.8%</td>\n",
              "      <td>[19]</td>\n",
              "    </tr>\n",
              "    <tr>\n",
              "      <th>4</th>\n",
              "      <td>2001</td>\n",
              "      <td>56304925</td>\n",
              "      <td>3.5%</td>\n",
              "      <td>[20]</td>\n",
              "    </tr>\n",
              "    <tr>\n",
              "      <th>5</th>\n",
              "      <td>2002</td>\n",
              "      <td>58994318</td>\n",
              "      <td>4.8%</td>\n",
              "      <td>[21]</td>\n",
              "    </tr>\n",
              "    <tr>\n",
              "      <th>6</th>\n",
              "      <td>2003</td>\n",
              "      <td>60663225</td>\n",
              "      <td>2.8%</td>\n",
              "      <td>[22]</td>\n",
              "    </tr>\n",
              "    <tr>\n",
              "      <th>7</th>\n",
              "      <td>2004</td>\n",
              "      <td>64496220</td>\n",
              "      <td>6.3%</td>\n",
              "      <td>[23]</td>\n",
              "    </tr>\n",
              "    <tr>\n",
              "      <th>8</th>\n",
              "      <td>2005</td>\n",
              "      <td>66482439</td>\n",
              "      <td>3.1%</td>\n",
              "      <td>[24]</td>\n",
              "    </tr>\n",
              "    <tr>\n",
              "      <th>9</th>\n",
              "      <td>2006</td>\n",
              "      <td>69222975</td>\n",
              "      <td>4.1%</td>\n",
              "      <td>[25]</td>\n",
              "    </tr>\n",
              "    <tr>\n",
              "      <th>10</th>\n",
              "      <td>2007</td>\n",
              "      <td>73266061</td>\n",
              "      <td>5.8%</td>\n",
              "      <td>[26]</td>\n",
              "    </tr>\n",
              "    <tr>\n",
              "      <th>11</th>\n",
              "      <td>2008</td>\n",
              "      <td>70520493</td>\n",
              "      <td>3.7%</td>\n",
              "      <td>[27]</td>\n",
              "    </tr>\n",
              "    <tr>\n",
              "      <th>12</th>\n",
              "      <td>2009</td>\n",
              "      <td>61791868</td>\n",
              "      <td>12.4%</td>\n",
              "      <td>[28]</td>\n",
              "    </tr>\n",
              "    <tr>\n",
              "      <th>13</th>\n",
              "      <td>2010</td>\n",
              "      <td>77857705</td>\n",
              "      <td>26.0%</td>\n",
              "      <td>[29]</td>\n",
              "    </tr>\n",
              "    <tr>\n",
              "      <th>14</th>\n",
              "      <td>2011</td>\n",
              "      <td>79989155</td>\n",
              "      <td>3.1%</td>\n",
              "      <td>[30]</td>\n",
              "    </tr>\n",
              "    <tr>\n",
              "      <th>15</th>\n",
              "      <td>2012</td>\n",
              "      <td>84141209</td>\n",
              "      <td>5.3%</td>\n",
              "      <td>[31]</td>\n",
              "    </tr>\n",
              "    <tr>\n",
              "      <th>16</th>\n",
              "      <td>2013</td>\n",
              "      <td>87300115</td>\n",
              "      <td>3.7%</td>\n",
              "      <td>[32]</td>\n",
              "    </tr>\n",
              "    <tr>\n",
              "      <th>17</th>\n",
              "      <td>2014</td>\n",
              "      <td>89747430</td>\n",
              "      <td>2.6%</td>\n",
              "      <td>[33]</td>\n",
              "    </tr>\n",
              "    <tr>\n",
              "      <th>18</th>\n",
              "      <td>2015</td>\n",
              "      <td>90086346</td>\n",
              "      <td>0.4%</td>\n",
              "      <td>[34]</td>\n",
              "    </tr>\n",
              "    <tr>\n",
              "      <th>19</th>\n",
              "      <td>2016</td>\n",
              "      <td>94976569</td>\n",
              "      <td>4.5%</td>\n",
              "      <td>[35]</td>\n",
              "    </tr>\n",
              "    <tr>\n",
              "      <th>20</th>\n",
              "      <td>2017</td>\n",
              "      <td>97302534</td>\n",
              "      <td>2.36%</td>\n",
              "      <td>[36]</td>\n",
              "    </tr>\n",
              "  </tbody>\n",
              "</table>\n",
              "</div>"
            ],
            "text/plain": [
              "    Year  Production Change Source\n",
              "0   1997    54434000      —   [17]\n",
              "1   1998    52987000   2.7%   [17]\n",
              "2   1999    56258892   6.2%   [18]\n",
              "3   2000    58374162   3.8%   [19]\n",
              "4   2001    56304925   3.5%   [20]\n",
              "5   2002    58994318   4.8%   [21]\n",
              "6   2003    60663225   2.8%   [22]\n",
              "7   2004    64496220   6.3%   [23]\n",
              "8   2005    66482439   3.1%   [24]\n",
              "9   2006    69222975   4.1%   [25]\n",
              "10  2007    73266061   5.8%   [26]\n",
              "11  2008    70520493   3.7%   [27]\n",
              "12  2009    61791868  12.4%   [28]\n",
              "13  2010    77857705  26.0%   [29]\n",
              "14  2011    79989155   3.1%   [30]\n",
              "15  2012    84141209   5.3%   [31]\n",
              "16  2013    87300115   3.7%   [32]\n",
              "17  2014    89747430   2.6%   [33]\n",
              "18  2015    90086346   0.4%   [34]\n",
              "19  2016    94976569   4.5%   [35]\n",
              "20  2017    97302534  2.36%   [36]"
            ]
          },
          "metadata": {
            "tags": []
          },
          "execution_count": 72
        }
      ]
    },
    {
      "metadata": {
        "id": "StElfVi3Fa9f",
        "colab_type": "code",
        "outputId": "4d4929db-e976-4568-f767-97e374ae42d9",
        "colab": {
          "base_uri": "https://localhost:8080/",
          "height": 34
        }
      },
      "cell_type": "code",
      "source": [
        "total_prod = df_totals.sort_values(by='Year').iloc[-1]['Production']\n",
        "total_prod"
      ],
      "execution_count": 0,
      "outputs": [
        {
          "output_type": "execute_result",
          "data": {
            "text/plain": [
              "97302534"
            ]
          },
          "metadata": {
            "tags": []
          },
          "execution_count": 73
        }
      ]
    },
    {
      "metadata": {
        "id": "no1wI4NoFa9p",
        "colab_type": "code",
        "outputId": "60412b4b-218b-47c3-a319-13b2b0aa468f",
        "colab": {
          "base_uri": "https://localhost:8080/",
          "height": 87
        }
      },
      "cell_type": "code",
      "source": [
        "df_by_man['share'] = df_by_man['Vehicles'].apply(lambda x : float(x)/ total_prod)\n",
        "market_share = df_by_man.set_index('Group')['share'][['Toyota', 'Volkswagen Group']]\n",
        "market_share"
      ],
      "execution_count": 0,
      "outputs": [
        {
          "output_type": "execute_result",
          "data": {
            "text/plain": [
              "Group\n",
              "Toyota              0.104966\n",
              "Volkswagen Group    0.104070\n",
              "Name: share, dtype: float64"
            ]
          },
          "metadata": {
            "tags": []
          },
          "execution_count": 74
        }
      ]
    },
    {
      "metadata": {
        "id": "skCuMiBJFa9s",
        "colab_type": "code",
        "outputId": "94514a6d-2d6b-4cf7-f445-dea187b4d8a0",
        "colab": {
          "base_uri": "https://localhost:8080/",
          "height": 1517
        }
      },
      "cell_type": "code",
      "source": [
        "rev = pd.read_html(\"https://en.wikipedia.org/wiki/List_of_largest_oil_and_gas_companies_by_revenue\", header=1)[0]\n",
        "rev = rev.iloc[:, 1:3]\n",
        "rev.columns = ['Company', 'Revenue']\n",
        "rev"
      ],
      "execution_count": 0,
      "outputs": [
        {
          "output_type": "execute_result",
          "data": {
            "text/html": [
              "<div>\n",
              "<style scoped>\n",
              "    .dataframe tbody tr th:only-of-type {\n",
              "        vertical-align: middle;\n",
              "    }\n",
              "\n",
              "    .dataframe tbody tr th {\n",
              "        vertical-align: top;\n",
              "    }\n",
              "\n",
              "    .dataframe thead th {\n",
              "        text-align: right;\n",
              "    }\n",
              "</style>\n",
              "<table border=\"1\" class=\"dataframe\">\n",
              "  <thead>\n",
              "    <tr style=\"text-align: right;\">\n",
              "      <th></th>\n",
              "      <th>Company</th>\n",
              "      <th>Revenue</th>\n",
              "    </tr>\n",
              "  </thead>\n",
              "  <tbody>\n",
              "    <tr>\n",
              "      <th>0</th>\n",
              "      <td>Saudi Aramco</td>\n",
              "      <td>465.49</td>\n",
              "    </tr>\n",
              "    <tr>\n",
              "      <th>1</th>\n",
              "      <td>Sinopec Group</td>\n",
              "      <td>448.00</td>\n",
              "    </tr>\n",
              "    <tr>\n",
              "      <th>2</th>\n",
              "      <td>China National Petroleum Corporation</td>\n",
              "      <td>428.62</td>\n",
              "    </tr>\n",
              "    <tr>\n",
              "      <th>3</th>\n",
              "      <td>Exxon Mobil</td>\n",
              "      <td>268.9</td>\n",
              "    </tr>\n",
              "    <tr>\n",
              "      <th>4</th>\n",
              "      <td>Royal Dutch Shell</td>\n",
              "      <td>265</td>\n",
              "    </tr>\n",
              "    <tr>\n",
              "      <th>5</th>\n",
              "      <td>Kuwait Petroleum Corporation</td>\n",
              "      <td>251.94</td>\n",
              "    </tr>\n",
              "    <tr>\n",
              "      <th>6</th>\n",
              "      <td>BP</td>\n",
              "      <td>222.8</td>\n",
              "    </tr>\n",
              "    <tr>\n",
              "      <th>7</th>\n",
              "      <td>Total SA</td>\n",
              "      <td>212</td>\n",
              "    </tr>\n",
              "    <tr>\n",
              "      <th>8</th>\n",
              "      <td>Lukoil</td>\n",
              "      <td>144.17</td>\n",
              "    </tr>\n",
              "    <tr>\n",
              "      <th>9</th>\n",
              "      <td>Eni</td>\n",
              "      <td>131.82</td>\n",
              "    </tr>\n",
              "    <tr>\n",
              "      <th>10</th>\n",
              "      <td>Valero Energy</td>\n",
              "      <td>130.84</td>\n",
              "    </tr>\n",
              "    <tr>\n",
              "      <th>11</th>\n",
              "      <td>Chevron Corporation</td>\n",
              "      <td>129.9</td>\n",
              "    </tr>\n",
              "    <tr>\n",
              "      <th>12</th>\n",
              "      <td>PDVSA</td>\n",
              "      <td>128.44</td>\n",
              "    </tr>\n",
              "    <tr>\n",
              "      <th>13</th>\n",
              "      <td>Pemex</td>\n",
              "      <td>117.50</td>\n",
              "    </tr>\n",
              "    <tr>\n",
              "      <th>14</th>\n",
              "      <td>National Iranian Oil Company</td>\n",
              "      <td>110.00**</td>\n",
              "    </tr>\n",
              "    <tr>\n",
              "      <th>15</th>\n",
              "      <td>Gazprom</td>\n",
              "      <td>106.3</td>\n",
              "    </tr>\n",
              "    <tr>\n",
              "      <th>16</th>\n",
              "      <td>Phillips 66</td>\n",
              "      <td>102.35</td>\n",
              "    </tr>\n",
              "    <tr>\n",
              "      <th>17</th>\n",
              "      <td>Petronas</td>\n",
              "      <td>100.74</td>\n",
              "    </tr>\n",
              "    <tr>\n",
              "      <th>18</th>\n",
              "      <td>China National Offshore Oil</td>\n",
              "      <td>98.53</td>\n",
              "    </tr>\n",
              "    <tr>\n",
              "      <th>19</th>\n",
              "      <td>Marathon Petroleum</td>\n",
              "      <td>97.81</td>\n",
              "    </tr>\n",
              "    <tr>\n",
              "      <th>20</th>\n",
              "      <td>PTT</td>\n",
              "      <td>93.55</td>\n",
              "    </tr>\n",
              "    <tr>\n",
              "      <th>21</th>\n",
              "      <td>Rosneft</td>\n",
              "      <td>91.72</td>\n",
              "    </tr>\n",
              "    <tr>\n",
              "      <th>22</th>\n",
              "      <td>JX Holdings</td>\n",
              "      <td>90.67</td>\n",
              "    </tr>\n",
              "    <tr>\n",
              "      <th>23</th>\n",
              "      <td>Engie</td>\n",
              "      <td>89.64</td>\n",
              "    </tr>\n",
              "    <tr>\n",
              "      <th>24</th>\n",
              "      <td>Petrobras</td>\n",
              "      <td>88.8</td>\n",
              "    </tr>\n",
              "    <tr>\n",
              "      <th>25</th>\n",
              "      <td>Equinor</td>\n",
              "      <td>82.48</td>\n",
              "    </tr>\n",
              "    <tr>\n",
              "      <th>26</th>\n",
              "      <td>Indian Oil Corporation</td>\n",
              "      <td>81.55</td>\n",
              "    </tr>\n",
              "    <tr>\n",
              "      <th>27</th>\n",
              "      <td>Sonatrach</td>\n",
              "      <td>76.10**</td>\n",
              "    </tr>\n",
              "    <tr>\n",
              "      <th>28</th>\n",
              "      <td>Reliance Industries</td>\n",
              "      <td>73.10</td>\n",
              "    </tr>\n",
              "    <tr>\n",
              "      <th>29</th>\n",
              "      <td>Pertamina</td>\n",
              "      <td>70.65</td>\n",
              "    </tr>\n",
              "    <tr>\n",
              "      <th>30</th>\n",
              "      <td>SOCAR</td>\n",
              "      <td>54.79</td>\n",
              "    </tr>\n",
              "    <tr>\n",
              "      <th>31</th>\n",
              "      <td>GS Caltex</td>\n",
              "      <td>50.26</td>\n",
              "    </tr>\n",
              "    <tr>\n",
              "      <th>32</th>\n",
              "      <td>ONGC</td>\n",
              "      <td>50.00</td>\n",
              "    </tr>\n",
              "    <tr>\n",
              "      <th>33</th>\n",
              "      <td>Enterprise Products</td>\n",
              "      <td>47.95</td>\n",
              "    </tr>\n",
              "    <tr>\n",
              "      <th>34</th>\n",
              "      <td>Repsol</td>\n",
              "      <td>47.29</td>\n",
              "    </tr>\n",
              "    <tr>\n",
              "      <th>35</th>\n",
              "      <td>Centrica</td>\n",
              "      <td>45.29</td>\n",
              "    </tr>\n",
              "    <tr>\n",
              "      <th>36</th>\n",
              "      <td>Bharat Petroleum</td>\n",
              "      <td>43.46</td>\n",
              "    </tr>\n",
              "    <tr>\n",
              "      <th>37</th>\n",
              "      <td>OMV Group</td>\n",
              "      <td>43.09</td>\n",
              "    </tr>\n",
              "    <tr>\n",
              "      <th>38</th>\n",
              "      <td>Idemitsu Kosan</td>\n",
              "      <td>38.58</td>\n",
              "    </tr>\n",
              "    <tr>\n",
              "      <th>39</th>\n",
              "      <td>Hindustan Petroleum</td>\n",
              "      <td>37.85</td>\n",
              "    </tr>\n",
              "    <tr>\n",
              "      <th>40</th>\n",
              "      <td>PKN Orlen</td>\n",
              "      <td>36.1</td>\n",
              "    </tr>\n",
              "    <tr>\n",
              "      <th>41</th>\n",
              "      <td>Schlumberger</td>\n",
              "      <td>35.47</td>\n",
              "    </tr>\n",
              "    <tr>\n",
              "      <th>42</th>\n",
              "      <td>Suncor Energy</td>\n",
              "      <td>34.66</td>\n",
              "    </tr>\n",
              "    <tr>\n",
              "      <th>43</th>\n",
              "      <td>Hellenic Petroleum</td>\n",
              "      <td>31.28</td>\n",
              "    </tr>\n",
              "    <tr>\n",
              "      <th>44</th>\n",
              "      <td>ConocoPhillips</td>\n",
              "      <td>29.11</td>\n",
              "    </tr>\n",
              "    <tr>\n",
              "      <th>45</th>\n",
              "      <td>Motor Oil Hellas</td>\n",
              "      <td>28.98</td>\n",
              "    </tr>\n",
              "    <tr>\n",
              "      <th>46</th>\n",
              "      <td>Ecopetrol</td>\n",
              "      <td>26.99</td>\n",
              "    </tr>\n",
              "    <tr>\n",
              "      <th>47</th>\n",
              "      <td>CEPSA</td>\n",
              "      <td>26.90</td>\n",
              "    </tr>\n",
              "    <tr>\n",
              "      <th>48</th>\n",
              "      <td>MOL</td>\n",
              "      <td>24.63</td>\n",
              "    </tr>\n",
              "  </tbody>\n",
              "</table>\n",
              "</div>"
            ],
            "text/plain": [
              "                                 Company   Revenue\n",
              "0                           Saudi Aramco    465.49\n",
              "1                          Sinopec Group    448.00\n",
              "2   China National Petroleum Corporation    428.62\n",
              "3                            Exxon Mobil     268.9\n",
              "4                      Royal Dutch Shell       265\n",
              "5           Kuwait Petroleum Corporation    251.94\n",
              "6                                     BP     222.8\n",
              "7                               Total SA       212\n",
              "8                                 Lukoil    144.17\n",
              "9                                    Eni    131.82\n",
              "10                         Valero Energy    130.84\n",
              "11                   Chevron Corporation     129.9\n",
              "12                                 PDVSA    128.44\n",
              "13                                 Pemex    117.50\n",
              "14          National Iranian Oil Company  110.00**\n",
              "15                               Gazprom     106.3\n",
              "16                           Phillips 66    102.35\n",
              "17                              Petronas    100.74\n",
              "18           China National Offshore Oil     98.53\n",
              "19                    Marathon Petroleum     97.81\n",
              "20                                   PTT     93.55\n",
              "21                               Rosneft     91.72\n",
              "22                           JX Holdings     90.67\n",
              "23                                 Engie     89.64\n",
              "24                             Petrobras      88.8\n",
              "25                               Equinor     82.48\n",
              "26                Indian Oil Corporation     81.55\n",
              "27                             Sonatrach   76.10**\n",
              "28                   Reliance Industries     73.10\n",
              "29                             Pertamina     70.65\n",
              "30                                 SOCAR     54.79\n",
              "31                             GS Caltex     50.26\n",
              "32                                  ONGC     50.00\n",
              "33                   Enterprise Products     47.95\n",
              "34                                Repsol     47.29\n",
              "35                              Centrica     45.29\n",
              "36                      Bharat Petroleum     43.46\n",
              "37                             OMV Group     43.09\n",
              "38                        Idemitsu Kosan     38.58\n",
              "39                   Hindustan Petroleum     37.85\n",
              "40                             PKN Orlen      36.1\n",
              "41                          Schlumberger     35.47\n",
              "42                         Suncor Energy     34.66\n",
              "43                    Hellenic Petroleum     31.28\n",
              "44                        ConocoPhillips     29.11\n",
              "45                      Motor Oil Hellas     28.98\n",
              "46                             Ecopetrol     26.99\n",
              "47                                 CEPSA     26.90\n",
              "48                                   MOL     24.63"
            ]
          },
          "metadata": {
            "tags": []
          },
          "execution_count": 75
        }
      ]
    },
    {
      "metadata": {
        "id": "_3QJ9_8VFa9x",
        "colab_type": "code",
        "outputId": "c9e628e6-3d0d-4563-c4ef-fb4eeb386565",
        "colab": {
          "base_uri": "https://localhost:8080/",
          "height": 34
        }
      },
      "cell_type": "code",
      "source": [
        "rev['rev_clean'] = rev['Revenue'].apply(lambda x : float(x.rstrip('*')))\n",
        "total = rev['rev_clean'].sum()\n",
        "total\n"
      ],
      "execution_count": 0,
      "outputs": [
        {
          "output_type": "execute_result",
          "data": {
            "text/plain": [
              "5532.089999999999"
            ]
          },
          "metadata": {
            "tags": []
          },
          "execution_count": 78
        }
      ]
    },
    {
      "metadata": {
        "id": "n4bZMHQrFa93",
        "colab_type": "code",
        "outputId": "0c9fb3d9-5be2-4a2f-f078-5171fe296f9d",
        "colab": {
          "base_uri": "https://localhost:8080/",
          "height": 1517
        }
      },
      "cell_type": "code",
      "source": [
        "rev['share'] = rev['rev_clean'] / total\n",
        "rev"
      ],
      "execution_count": 0,
      "outputs": [
        {
          "output_type": "execute_result",
          "data": {
            "text/html": [
              "<div>\n",
              "<style scoped>\n",
              "    .dataframe tbody tr th:only-of-type {\n",
              "        vertical-align: middle;\n",
              "    }\n",
              "\n",
              "    .dataframe tbody tr th {\n",
              "        vertical-align: top;\n",
              "    }\n",
              "\n",
              "    .dataframe thead th {\n",
              "        text-align: right;\n",
              "    }\n",
              "</style>\n",
              "<table border=\"1\" class=\"dataframe\">\n",
              "  <thead>\n",
              "    <tr style=\"text-align: right;\">\n",
              "      <th></th>\n",
              "      <th>Company</th>\n",
              "      <th>Revenue</th>\n",
              "      <th>rev_clean</th>\n",
              "      <th>share</th>\n",
              "    </tr>\n",
              "  </thead>\n",
              "  <tbody>\n",
              "    <tr>\n",
              "      <th>0</th>\n",
              "      <td>Saudi Aramco</td>\n",
              "      <td>465.49</td>\n",
              "      <td>465.49</td>\n",
              "      <td>0.084144</td>\n",
              "    </tr>\n",
              "    <tr>\n",
              "      <th>1</th>\n",
              "      <td>Sinopec Group</td>\n",
              "      <td>448.00</td>\n",
              "      <td>448.00</td>\n",
              "      <td>0.080982</td>\n",
              "    </tr>\n",
              "    <tr>\n",
              "      <th>2</th>\n",
              "      <td>China National Petroleum Corporation</td>\n",
              "      <td>428.62</td>\n",
              "      <td>428.62</td>\n",
              "      <td>0.077479</td>\n",
              "    </tr>\n",
              "    <tr>\n",
              "      <th>3</th>\n",
              "      <td>Exxon Mobil</td>\n",
              "      <td>268.9</td>\n",
              "      <td>268.90</td>\n",
              "      <td>0.048607</td>\n",
              "    </tr>\n",
              "    <tr>\n",
              "      <th>4</th>\n",
              "      <td>Royal Dutch Shell</td>\n",
              "      <td>265</td>\n",
              "      <td>265.00</td>\n",
              "      <td>0.047902</td>\n",
              "    </tr>\n",
              "    <tr>\n",
              "      <th>5</th>\n",
              "      <td>Kuwait Petroleum Corporation</td>\n",
              "      <td>251.94</td>\n",
              "      <td>251.94</td>\n",
              "      <td>0.045542</td>\n",
              "    </tr>\n",
              "    <tr>\n",
              "      <th>6</th>\n",
              "      <td>BP</td>\n",
              "      <td>222.8</td>\n",
              "      <td>222.80</td>\n",
              "      <td>0.040274</td>\n",
              "    </tr>\n",
              "    <tr>\n",
              "      <th>7</th>\n",
              "      <td>Total SA</td>\n",
              "      <td>212</td>\n",
              "      <td>212.00</td>\n",
              "      <td>0.038322</td>\n",
              "    </tr>\n",
              "    <tr>\n",
              "      <th>8</th>\n",
              "      <td>Lukoil</td>\n",
              "      <td>144.17</td>\n",
              "      <td>144.17</td>\n",
              "      <td>0.026061</td>\n",
              "    </tr>\n",
              "    <tr>\n",
              "      <th>9</th>\n",
              "      <td>Eni</td>\n",
              "      <td>131.82</td>\n",
              "      <td>131.82</td>\n",
              "      <td>0.023828</td>\n",
              "    </tr>\n",
              "    <tr>\n",
              "      <th>10</th>\n",
              "      <td>Valero Energy</td>\n",
              "      <td>130.84</td>\n",
              "      <td>130.84</td>\n",
              "      <td>0.023651</td>\n",
              "    </tr>\n",
              "    <tr>\n",
              "      <th>11</th>\n",
              "      <td>Chevron Corporation</td>\n",
              "      <td>129.9</td>\n",
              "      <td>129.90</td>\n",
              "      <td>0.023481</td>\n",
              "    </tr>\n",
              "    <tr>\n",
              "      <th>12</th>\n",
              "      <td>PDVSA</td>\n",
              "      <td>128.44</td>\n",
              "      <td>128.44</td>\n",
              "      <td>0.023217</td>\n",
              "    </tr>\n",
              "    <tr>\n",
              "      <th>13</th>\n",
              "      <td>Pemex</td>\n",
              "      <td>117.50</td>\n",
              "      <td>117.50</td>\n",
              "      <td>0.021240</td>\n",
              "    </tr>\n",
              "    <tr>\n",
              "      <th>14</th>\n",
              "      <td>National Iranian Oil Company</td>\n",
              "      <td>110.00**</td>\n",
              "      <td>110.00</td>\n",
              "      <td>0.019884</td>\n",
              "    </tr>\n",
              "    <tr>\n",
              "      <th>15</th>\n",
              "      <td>Gazprom</td>\n",
              "      <td>106.3</td>\n",
              "      <td>106.30</td>\n",
              "      <td>0.019215</td>\n",
              "    </tr>\n",
              "    <tr>\n",
              "      <th>16</th>\n",
              "      <td>Phillips 66</td>\n",
              "      <td>102.35</td>\n",
              "      <td>102.35</td>\n",
              "      <td>0.018501</td>\n",
              "    </tr>\n",
              "    <tr>\n",
              "      <th>17</th>\n",
              "      <td>Petronas</td>\n",
              "      <td>100.74</td>\n",
              "      <td>100.74</td>\n",
              "      <td>0.018210</td>\n",
              "    </tr>\n",
              "    <tr>\n",
              "      <th>18</th>\n",
              "      <td>China National Offshore Oil</td>\n",
              "      <td>98.53</td>\n",
              "      <td>98.53</td>\n",
              "      <td>0.017811</td>\n",
              "    </tr>\n",
              "    <tr>\n",
              "      <th>19</th>\n",
              "      <td>Marathon Petroleum</td>\n",
              "      <td>97.81</td>\n",
              "      <td>97.81</td>\n",
              "      <td>0.017680</td>\n",
              "    </tr>\n",
              "    <tr>\n",
              "      <th>20</th>\n",
              "      <td>PTT</td>\n",
              "      <td>93.55</td>\n",
              "      <td>93.55</td>\n",
              "      <td>0.016910</td>\n",
              "    </tr>\n",
              "    <tr>\n",
              "      <th>21</th>\n",
              "      <td>Rosneft</td>\n",
              "      <td>91.72</td>\n",
              "      <td>91.72</td>\n",
              "      <td>0.016580</td>\n",
              "    </tr>\n",
              "    <tr>\n",
              "      <th>22</th>\n",
              "      <td>JX Holdings</td>\n",
              "      <td>90.67</td>\n",
              "      <td>90.67</td>\n",
              "      <td>0.016390</td>\n",
              "    </tr>\n",
              "    <tr>\n",
              "      <th>23</th>\n",
              "      <td>Engie</td>\n",
              "      <td>89.64</td>\n",
              "      <td>89.64</td>\n",
              "      <td>0.016204</td>\n",
              "    </tr>\n",
              "    <tr>\n",
              "      <th>24</th>\n",
              "      <td>Petrobras</td>\n",
              "      <td>88.8</td>\n",
              "      <td>88.80</td>\n",
              "      <td>0.016052</td>\n",
              "    </tr>\n",
              "    <tr>\n",
              "      <th>25</th>\n",
              "      <td>Equinor</td>\n",
              "      <td>82.48</td>\n",
              "      <td>82.48</td>\n",
              "      <td>0.014909</td>\n",
              "    </tr>\n",
              "    <tr>\n",
              "      <th>26</th>\n",
              "      <td>Indian Oil Corporation</td>\n",
              "      <td>81.55</td>\n",
              "      <td>81.55</td>\n",
              "      <td>0.014741</td>\n",
              "    </tr>\n",
              "    <tr>\n",
              "      <th>27</th>\n",
              "      <td>Sonatrach</td>\n",
              "      <td>76.10**</td>\n",
              "      <td>76.10</td>\n",
              "      <td>0.013756</td>\n",
              "    </tr>\n",
              "    <tr>\n",
              "      <th>28</th>\n",
              "      <td>Reliance Industries</td>\n",
              "      <td>73.10</td>\n",
              "      <td>73.10</td>\n",
              "      <td>0.013214</td>\n",
              "    </tr>\n",
              "    <tr>\n",
              "      <th>29</th>\n",
              "      <td>Pertamina</td>\n",
              "      <td>70.65</td>\n",
              "      <td>70.65</td>\n",
              "      <td>0.012771</td>\n",
              "    </tr>\n",
              "    <tr>\n",
              "      <th>30</th>\n",
              "      <td>SOCAR</td>\n",
              "      <td>54.79</td>\n",
              "      <td>54.79</td>\n",
              "      <td>0.009904</td>\n",
              "    </tr>\n",
              "    <tr>\n",
              "      <th>31</th>\n",
              "      <td>GS Caltex</td>\n",
              "      <td>50.26</td>\n",
              "      <td>50.26</td>\n",
              "      <td>0.009085</td>\n",
              "    </tr>\n",
              "    <tr>\n",
              "      <th>32</th>\n",
              "      <td>ONGC</td>\n",
              "      <td>50.00</td>\n",
              "      <td>50.00</td>\n",
              "      <td>0.009038</td>\n",
              "    </tr>\n",
              "    <tr>\n",
              "      <th>33</th>\n",
              "      <td>Enterprise Products</td>\n",
              "      <td>47.95</td>\n",
              "      <td>47.95</td>\n",
              "      <td>0.008668</td>\n",
              "    </tr>\n",
              "    <tr>\n",
              "      <th>34</th>\n",
              "      <td>Repsol</td>\n",
              "      <td>47.29</td>\n",
              "      <td>47.29</td>\n",
              "      <td>0.008548</td>\n",
              "    </tr>\n",
              "    <tr>\n",
              "      <th>35</th>\n",
              "      <td>Centrica</td>\n",
              "      <td>45.29</td>\n",
              "      <td>45.29</td>\n",
              "      <td>0.008187</td>\n",
              "    </tr>\n",
              "    <tr>\n",
              "      <th>36</th>\n",
              "      <td>Bharat Petroleum</td>\n",
              "      <td>43.46</td>\n",
              "      <td>43.46</td>\n",
              "      <td>0.007856</td>\n",
              "    </tr>\n",
              "    <tr>\n",
              "      <th>37</th>\n",
              "      <td>OMV Group</td>\n",
              "      <td>43.09</td>\n",
              "      <td>43.09</td>\n",
              "      <td>0.007789</td>\n",
              "    </tr>\n",
              "    <tr>\n",
              "      <th>38</th>\n",
              "      <td>Idemitsu Kosan</td>\n",
              "      <td>38.58</td>\n",
              "      <td>38.58</td>\n",
              "      <td>0.006974</td>\n",
              "    </tr>\n",
              "    <tr>\n",
              "      <th>39</th>\n",
              "      <td>Hindustan Petroleum</td>\n",
              "      <td>37.85</td>\n",
              "      <td>37.85</td>\n",
              "      <td>0.006842</td>\n",
              "    </tr>\n",
              "    <tr>\n",
              "      <th>40</th>\n",
              "      <td>PKN Orlen</td>\n",
              "      <td>36.1</td>\n",
              "      <td>36.10</td>\n",
              "      <td>0.006526</td>\n",
              "    </tr>\n",
              "    <tr>\n",
              "      <th>41</th>\n",
              "      <td>Schlumberger</td>\n",
              "      <td>35.47</td>\n",
              "      <td>35.47</td>\n",
              "      <td>0.006412</td>\n",
              "    </tr>\n",
              "    <tr>\n",
              "      <th>42</th>\n",
              "      <td>Suncor Energy</td>\n",
              "      <td>34.66</td>\n",
              "      <td>34.66</td>\n",
              "      <td>0.006265</td>\n",
              "    </tr>\n",
              "    <tr>\n",
              "      <th>43</th>\n",
              "      <td>Hellenic Petroleum</td>\n",
              "      <td>31.28</td>\n",
              "      <td>31.28</td>\n",
              "      <td>0.005654</td>\n",
              "    </tr>\n",
              "    <tr>\n",
              "      <th>44</th>\n",
              "      <td>ConocoPhillips</td>\n",
              "      <td>29.11</td>\n",
              "      <td>29.11</td>\n",
              "      <td>0.005262</td>\n",
              "    </tr>\n",
              "    <tr>\n",
              "      <th>45</th>\n",
              "      <td>Motor Oil Hellas</td>\n",
              "      <td>28.98</td>\n",
              "      <td>28.98</td>\n",
              "      <td>0.005239</td>\n",
              "    </tr>\n",
              "    <tr>\n",
              "      <th>46</th>\n",
              "      <td>Ecopetrol</td>\n",
              "      <td>26.99</td>\n",
              "      <td>26.99</td>\n",
              "      <td>0.004879</td>\n",
              "    </tr>\n",
              "    <tr>\n",
              "      <th>47</th>\n",
              "      <td>CEPSA</td>\n",
              "      <td>26.90</td>\n",
              "      <td>26.90</td>\n",
              "      <td>0.004863</td>\n",
              "    </tr>\n",
              "    <tr>\n",
              "      <th>48</th>\n",
              "      <td>MOL</td>\n",
              "      <td>24.63</td>\n",
              "      <td>24.63</td>\n",
              "      <td>0.004452</td>\n",
              "    </tr>\n",
              "  </tbody>\n",
              "</table>\n",
              "</div>"
            ],
            "text/plain": [
              "                                 Company   Revenue  rev_clean     share\n",
              "0                           Saudi Aramco    465.49     465.49  0.084144\n",
              "1                          Sinopec Group    448.00     448.00  0.080982\n",
              "2   China National Petroleum Corporation    428.62     428.62  0.077479\n",
              "3                            Exxon Mobil     268.9     268.90  0.048607\n",
              "4                      Royal Dutch Shell       265     265.00  0.047902\n",
              "5           Kuwait Petroleum Corporation    251.94     251.94  0.045542\n",
              "6                                     BP     222.8     222.80  0.040274\n",
              "7                               Total SA       212     212.00  0.038322\n",
              "8                                 Lukoil    144.17     144.17  0.026061\n",
              "9                                    Eni    131.82     131.82  0.023828\n",
              "10                         Valero Energy    130.84     130.84  0.023651\n",
              "11                   Chevron Corporation     129.9     129.90  0.023481\n",
              "12                                 PDVSA    128.44     128.44  0.023217\n",
              "13                                 Pemex    117.50     117.50  0.021240\n",
              "14          National Iranian Oil Company  110.00**     110.00  0.019884\n",
              "15                               Gazprom     106.3     106.30  0.019215\n",
              "16                           Phillips 66    102.35     102.35  0.018501\n",
              "17                              Petronas    100.74     100.74  0.018210\n",
              "18           China National Offshore Oil     98.53      98.53  0.017811\n",
              "19                    Marathon Petroleum     97.81      97.81  0.017680\n",
              "20                                   PTT     93.55      93.55  0.016910\n",
              "21                               Rosneft     91.72      91.72  0.016580\n",
              "22                           JX Holdings     90.67      90.67  0.016390\n",
              "23                                 Engie     89.64      89.64  0.016204\n",
              "24                             Petrobras      88.8      88.80  0.016052\n",
              "25                               Equinor     82.48      82.48  0.014909\n",
              "26                Indian Oil Corporation     81.55      81.55  0.014741\n",
              "27                             Sonatrach   76.10**      76.10  0.013756\n",
              "28                   Reliance Industries     73.10      73.10  0.013214\n",
              "29                             Pertamina     70.65      70.65  0.012771\n",
              "30                                 SOCAR     54.79      54.79  0.009904\n",
              "31                             GS Caltex     50.26      50.26  0.009085\n",
              "32                                  ONGC     50.00      50.00  0.009038\n",
              "33                   Enterprise Products     47.95      47.95  0.008668\n",
              "34                                Repsol     47.29      47.29  0.008548\n",
              "35                              Centrica     45.29      45.29  0.008187\n",
              "36                      Bharat Petroleum     43.46      43.46  0.007856\n",
              "37                             OMV Group     43.09      43.09  0.007789\n",
              "38                        Idemitsu Kosan     38.58      38.58  0.006974\n",
              "39                   Hindustan Petroleum     37.85      37.85  0.006842\n",
              "40                             PKN Orlen      36.1      36.10  0.006526\n",
              "41                          Schlumberger     35.47      35.47  0.006412\n",
              "42                         Suncor Energy     34.66      34.66  0.006265\n",
              "43                    Hellenic Petroleum     31.28      31.28  0.005654\n",
              "44                        ConocoPhillips     29.11      29.11  0.005262\n",
              "45                      Motor Oil Hellas     28.98      28.98  0.005239\n",
              "46                             Ecopetrol     26.99      26.99  0.004879\n",
              "47                                 CEPSA     26.90      26.90  0.004863\n",
              "48                                   MOL     24.63      24.63  0.004452"
            ]
          },
          "metadata": {
            "tags": []
          },
          "execution_count": 79
        }
      ]
    },
    {
      "metadata": {
        "id": "mU4hug9rFa97",
        "colab_type": "code",
        "outputId": "676676af-ede6-4e8f-d071-f0fb8f3550f5",
        "colab": {
          "base_uri": "https://localhost:8080/",
          "height": 137
        }
      },
      "cell_type": "code",
      "source": [
        "rev = rev[rev['Company'].isin(['Exxon Mobil', 'Sinopec', 'China National Petroleum Corporation', 'Royal Dutch Shell'])].copy()\n",
        "rev"
      ],
      "execution_count": 0,
      "outputs": [
        {
          "output_type": "execute_result",
          "data": {
            "text/html": [
              "<div>\n",
              "<style scoped>\n",
              "    .dataframe tbody tr th:only-of-type {\n",
              "        vertical-align: middle;\n",
              "    }\n",
              "\n",
              "    .dataframe tbody tr th {\n",
              "        vertical-align: top;\n",
              "    }\n",
              "\n",
              "    .dataframe thead th {\n",
              "        text-align: right;\n",
              "    }\n",
              "</style>\n",
              "<table border=\"1\" class=\"dataframe\">\n",
              "  <thead>\n",
              "    <tr style=\"text-align: right;\">\n",
              "      <th></th>\n",
              "      <th>Company</th>\n",
              "      <th>Revenue</th>\n",
              "      <th>rev_clean</th>\n",
              "      <th>share</th>\n",
              "    </tr>\n",
              "  </thead>\n",
              "  <tbody>\n",
              "    <tr>\n",
              "      <th>2</th>\n",
              "      <td>China National Petroleum Corporation</td>\n",
              "      <td>428.62</td>\n",
              "      <td>428.62</td>\n",
              "      <td>0.077479</td>\n",
              "    </tr>\n",
              "    <tr>\n",
              "      <th>3</th>\n",
              "      <td>Exxon Mobil</td>\n",
              "      <td>268.9</td>\n",
              "      <td>268.90</td>\n",
              "      <td>0.048607</td>\n",
              "    </tr>\n",
              "    <tr>\n",
              "      <th>4</th>\n",
              "      <td>Royal Dutch Shell</td>\n",
              "      <td>265</td>\n",
              "      <td>265.00</td>\n",
              "      <td>0.047902</td>\n",
              "    </tr>\n",
              "  </tbody>\n",
              "</table>\n",
              "</div>"
            ],
            "text/plain": [
              "                                Company Revenue  rev_clean     share\n",
              "2  China National Petroleum Corporation  428.62     428.62  0.077479\n",
              "3                           Exxon Mobil   268.9     268.90  0.048607\n",
              "4                     Royal Dutch Shell     265     265.00  0.047902"
            ]
          },
          "metadata": {
            "tags": []
          },
          "execution_count": 80
        }
      ]
    },
    {
      "metadata": {
        "id": "iEmqr4rrFa9-",
        "colab_type": "code",
        "outputId": "46a2420d-2d22-43bb-e429-4201a5ff40df",
        "colab": {
          "base_uri": "https://localhost:8080/",
          "height": 137
        }
      },
      "cell_type": "code",
      "source": [
        "# do fuzzy search\n",
        "split_names = {i: set(i.split(' ')) for i in df['Company']}\n",
        "\n",
        "def fuzzy(word):\n",
        "    return fuzzy_match(word, split_names)\n",
        "\n",
        "rev['name'] = rev['Company'].apply(fuzzy)\n",
        "rev"
      ],
      "execution_count": 0,
      "outputs": [
        {
          "output_type": "execute_result",
          "data": {
            "text/html": [
              "<div>\n",
              "<style scoped>\n",
              "    .dataframe tbody tr th:only-of-type {\n",
              "        vertical-align: middle;\n",
              "    }\n",
              "\n",
              "    .dataframe tbody tr th {\n",
              "        vertical-align: top;\n",
              "    }\n",
              "\n",
              "    .dataframe thead th {\n",
              "        text-align: right;\n",
              "    }\n",
              "</style>\n",
              "<table border=\"1\" class=\"dataframe\">\n",
              "  <thead>\n",
              "    <tr style=\"text-align: right;\">\n",
              "      <th></th>\n",
              "      <th>Company</th>\n",
              "      <th>Revenue</th>\n",
              "      <th>rev_clean</th>\n",
              "      <th>share</th>\n",
              "      <th>name</th>\n",
              "    </tr>\n",
              "  </thead>\n",
              "  <tbody>\n",
              "    <tr>\n",
              "      <th>2</th>\n",
              "      <td>China National Petroleum Corporation</td>\n",
              "      <td>428.62</td>\n",
              "      <td>428.62</td>\n",
              "      <td>0.077479</td>\n",
              "      <td>China National Petroleum</td>\n",
              "    </tr>\n",
              "    <tr>\n",
              "      <th>3</th>\n",
              "      <td>Exxon Mobil</td>\n",
              "      <td>268.9</td>\n",
              "      <td>268.90</td>\n",
              "      <td>0.048607</td>\n",
              "      <td>Exxon Mobil</td>\n",
              "    </tr>\n",
              "    <tr>\n",
              "      <th>4</th>\n",
              "      <td>Royal Dutch Shell</td>\n",
              "      <td>265</td>\n",
              "      <td>265.00</td>\n",
              "      <td>0.047902</td>\n",
              "      <td>Royal Dutch Shell</td>\n",
              "    </tr>\n",
              "  </tbody>\n",
              "</table>\n",
              "</div>"
            ],
            "text/plain": [
              "                                Company Revenue  rev_clean     share  \\\n",
              "2  China National Petroleum Corporation  428.62     428.62  0.077479   \n",
              "3                           Exxon Mobil   268.9     268.90  0.048607   \n",
              "4                     Royal Dutch Shell     265     265.00  0.047902   \n",
              "\n",
              "                       name  \n",
              "2  China National Petroleum  \n",
              "3               Exxon Mobil  \n",
              "4         Royal Dutch Shell  "
            ]
          },
          "metadata": {
            "tags": []
          },
          "execution_count": 81
        }
      ]
    },
    {
      "metadata": {
        "id": "X0Iw0IjHFa-A",
        "colab_type": "code",
        "colab": {}
      },
      "cell_type": "code",
      "source": [
        "ms2 = df.merge(rev[['share', 'name']], left_on='Company', right_on='name')"
      ],
      "execution_count": 0,
      "outputs": []
    },
    {
      "metadata": {
        "id": "T8u8ZieHFa-D",
        "colab_type": "text"
      },
      "cell_type": "markdown",
      "source": [
        "Now we want to put these together and get only the company and the market share."
      ]
    },
    {
      "metadata": {
        "id": "Wly2d-hcFa-D",
        "colab_type": "code",
        "outputId": "4dc3436a-b7be-4cc5-d72e-066d12ee29d8",
        "colab": {
          "base_uri": "https://localhost:8080/",
          "height": 197
        }
      },
      "cell_type": "code",
      "source": [
        "ms = market_share.reset_index()[['Group','share']]\n",
        "ms.columns = ['Company', 'share']\n",
        "pd.concat([ms, ms2[['Company', 'share']]])"
      ],
      "execution_count": 0,
      "outputs": [
        {
          "output_type": "execute_result",
          "data": {
            "text/html": [
              "<div>\n",
              "<style scoped>\n",
              "    .dataframe tbody tr th:only-of-type {\n",
              "        vertical-align: middle;\n",
              "    }\n",
              "\n",
              "    .dataframe tbody tr th {\n",
              "        vertical-align: top;\n",
              "    }\n",
              "\n",
              "    .dataframe thead th {\n",
              "        text-align: right;\n",
              "    }\n",
              "</style>\n",
              "<table border=\"1\" class=\"dataframe\">\n",
              "  <thead>\n",
              "    <tr style=\"text-align: right;\">\n",
              "      <th></th>\n",
              "      <th>Company</th>\n",
              "      <th>share</th>\n",
              "    </tr>\n",
              "  </thead>\n",
              "  <tbody>\n",
              "    <tr>\n",
              "      <th>0</th>\n",
              "      <td>Toyota</td>\n",
              "      <td>0.104966</td>\n",
              "    </tr>\n",
              "    <tr>\n",
              "      <th>1</th>\n",
              "      <td>Volkswagen Group</td>\n",
              "      <td>0.104070</td>\n",
              "    </tr>\n",
              "    <tr>\n",
              "      <th>0</th>\n",
              "      <td>China National Petroleum</td>\n",
              "      <td>0.077479</td>\n",
              "    </tr>\n",
              "    <tr>\n",
              "      <th>1</th>\n",
              "      <td>Royal Dutch Shell</td>\n",
              "      <td>0.047902</td>\n",
              "    </tr>\n",
              "    <tr>\n",
              "      <th>2</th>\n",
              "      <td>Exxon Mobil</td>\n",
              "      <td>0.048607</td>\n",
              "    </tr>\n",
              "  </tbody>\n",
              "</table>\n",
              "</div>"
            ],
            "text/plain": [
              "                    Company     share\n",
              "0                    Toyota  0.104966\n",
              "1          Volkswagen Group  0.104070\n",
              "0  China National Petroleum  0.077479\n",
              "1         Royal Dutch Shell  0.047902\n",
              "2               Exxon Mobil  0.048607"
            ]
          },
          "metadata": {
            "tags": []
          },
          "execution_count": 83
        }
      ]
    },
    {
      "metadata": {
        "id": "uROYspHYPK_O",
        "colab_type": "code",
        "colab": {}
      },
      "cell_type": "code",
      "source": [
        ""
      ],
      "execution_count": 0,
      "outputs": []
    }
  ]
}